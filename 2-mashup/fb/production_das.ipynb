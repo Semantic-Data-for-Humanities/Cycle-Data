{
 "cells": [
  {
   "cell_type": "markdown",
   "id": "fefa7705-455e-4caa-9907-c3f913973954",
   "metadata": {},
   "source": [
    "# Import des données DAS dans base de données SQLite"
   ]
  },
  {
   "cell_type": "code",
   "execution_count": 24,
   "id": "64c80279-2e3d-4af6-bc52-337d6dc4e300",
   "metadata": {},
   "outputs": [],
   "source": [
    "import pandas as pd\n",
    "import os\n",
    "import sqlite3 as sql"
   ]
  },
  {
   "cell_type": "markdown",
   "id": "f9e97952-e4c1-4d07-97b0-96bdfbc9b203",
   "metadata": {},
   "source": [
    "## Création de la base de données et des tables\n",
    "\n",
    "* À partir du dossier contenant les tables de la base de données originale exportée en CSV, on le lit et importe dans une nouvelle base de données SQLite.\n",
    "* On recrée ensuite manuellement les clés primaires et les liens de clé étrangère\n"
   ]
  },
  {
   "cell_type": "code",
   "execution_count": 3,
   "id": "585f8e25-e453-4b9b-841b-43ad82940055",
   "metadata": {},
   "outputs": [],
   "source": [
    "### Connection à la base de données SQLite\n",
    "# Si elle n'existe pas elle est créée à la connection\n",
    "db_address = '/home/francesco/shared_files/python_notebooks/SD_for_HSS/Cycle-Data/data/maritime_history.db'\n",
    "cnn = sql.connect(db_address)"
   ]
  },
  {
   "cell_type": "markdown",
   "id": "36715d44-bbcc-4399-ac4c-aab35b460338",
   "metadata": {},
   "source": [
    "### Importer les données"
   ]
  },
  {
   "cell_type": "code",
   "execution_count": 25,
   "id": "bc1ea8c6-01ce-4443-a246-6b01e7eec683",
   "metadata": {},
   "outputs": [],
   "source": [
    "### Chemin vers le dossier\n",
    "file_path = '[chemin]/das'"
   ]
  },
  {
   "cell_type": "code",
   "execution_count": 46,
   "id": "a91135b6-b2cb-40de-a093-73192b4673ac",
   "metadata": {},
   "outputs": [
    {
     "name": "stdout",
     "output_type": "stream",
     "text": [
      "['das_master.csv', 'das_shipNameVariant.csv', 'das_yard.csv', 'das_ship.csv', 'das_ship_test_noms_champs.csv', 'das_shipType.csv', 'das_place.csv', 'das_onboard.csv', 'das_voyage.csv', 'das_chamber.csv']\n"
     ]
    }
   ],
   "source": [
    "### Lister les fichiers dans le dossier\n",
    "dir_list = os.listdir(file_path)\n",
    "print(dir_list)"
   ]
  },
  {
   "cell_type": "code",
   "execution_count": 17,
   "id": "76dc001b-5bd3-4e66-946a-90f183ee3bb0",
   "metadata": {},
   "outputs": [
    {
     "data": {
      "text/html": [
       "<div>\n",
       "<style scoped>\n",
       "    .dataframe tbody tr th:only-of-type {\n",
       "        vertical-align: middle;\n",
       "    }\n",
       "\n",
       "    .dataframe tbody tr th {\n",
       "        vertical-align: top;\n",
       "    }\n",
       "\n",
       "    .dataframe thead th {\n",
       "        text-align: right;\n",
       "    }\n",
       "</style>\n",
       "<table border=\"1\" class=\"dataframe\">\n",
       "  <thead>\n",
       "    <tr style=\"text-align: right;\">\n",
       "      <th></th>\n",
       "      <th>voyMasterID</th>\n",
       "      <th>voyMasterLastName</th>\n",
       "      <th>voyMasterFirstName</th>\n",
       "      <th>voyMasterFamilyNamePrefix</th>\n",
       "    </tr>\n",
       "  </thead>\n",
       "  <tbody>\n",
       "    <tr>\n",
       "      <th>0</th>\n",
       "      <td>das_mas0001</td>\n",
       "      <td>NaN</td>\n",
       "      <td>Evert</td>\n",
       "      <td>NaN</td>\n",
       "    </tr>\n",
       "    <tr>\n",
       "      <th>1</th>\n",
       "      <td>das_mas0002</td>\n",
       "      <td>Aalders</td>\n",
       "      <td>Aldert</td>\n",
       "      <td>NaN</td>\n",
       "    </tr>\n",
       "    <tr>\n",
       "      <th>2</th>\n",
       "      <td>das_mas0003</td>\n",
       "      <td>Aams</td>\n",
       "      <td>Lukas</td>\n",
       "      <td>NaN</td>\n",
       "    </tr>\n",
       "    <tr>\n",
       "      <th>3</th>\n",
       "      <td>das_mas0004</td>\n",
       "      <td>Aarnoutsz.</td>\n",
       "      <td>Abraham</td>\n",
       "      <td>NaN</td>\n",
       "    </tr>\n",
       "    <tr>\n",
       "      <th>4</th>\n",
       "      <td>das_mas0005</td>\n",
       "      <td>Aarson</td>\n",
       "      <td>Pieter</td>\n",
       "      <td>van</td>\n",
       "    </tr>\n",
       "  </tbody>\n",
       "</table>\n",
       "</div>"
      ],
      "text/plain": [
       "   voyMasterID voyMasterLastName voyMasterFirstName voyMasterFamilyNamePrefix\n",
       "0  das_mas0001               NaN              Evert                       NaN\n",
       "1  das_mas0002           Aalders             Aldert                       NaN\n",
       "2  das_mas0003              Aams              Lukas                       NaN\n",
       "3  das_mas0004        Aarnoutsz.            Abraham                       NaN\n",
       "4  das_mas0005            Aarson             Pieter                       van"
      ]
     },
     "execution_count": 17,
     "metadata": {},
     "output_type": "execute_result"
    }
   ],
   "source": [
    "### Explorer le premier fichier\n",
    "csv_file = dir_list[0]\n",
    "f = pd.read_csv(file_path + '/' + csv_file, sep=';')\n",
    "f.head()"
   ]
  },
  {
   "cell_type": "code",
   "execution_count": null,
   "id": "3b4abeb9-78f9-4ee6-b7b2-d2ae7d37d623",
   "metadata": {},
   "outputs": [],
   "source": [
    "### Boucle qui importe tous les fichiers CSV\n",
    "# et créé une table par fichier dans la base de données\n",
    "\n",
    "for f in dir_list:\n",
    "    # Lire le fichier\n",
    "    fdf = pd.read_csv(file_path + '/' + f, sep=';')\n",
    "    # Préparer le nom de la table\n",
    "    tb_name = f.replace('.csv', '')\n",
    "    ### La base de données existe déjà, ne pas rééxécuter \n",
    "    # fdf.to_sql(tb_name, cnn)\n",
    "    q = 'update ' + tb_name + ' set \"index\" = \"index\" + 1'\n",
    "    ### Déjà exécuté, ne pas rééxécuter \n",
    "    # cnn.execute(q)"
   ]
  },
  {
   "cell_type": "markdown",
   "id": "4d1fb07e-2951-45f2-ba08-1aaa656c10cd",
   "metadata": {},
   "source": [
    "### Inspecter le résultat de l'importation"
   ]
  },
  {
   "cell_type": "code",
   "execution_count": 50,
   "id": "868360fc-fcb2-4adb-953b-0b8bb2533cb5",
   "metadata": {},
   "outputs": [],
   "source": [
    "q = \"\"\"SELECT \n",
    "    name\n",
    "FROM \n",
    "    sqlite_schema\n",
    "WHERE \n",
    "    type ='table' \n",
    "    AND name NOT LIKE 'sqlite_%';\n",
    "    \"\"\"\n",
    "c = cnn.cursor()\n",
    "c.execute(q)\n",
    "rc = c.fetchall()"
   ]
  },
  {
   "cell_type": "code",
   "execution_count": 51,
   "id": "5f140b33-c2d3-4a09-b0a8-ca2a461e9028",
   "metadata": {},
   "outputs": [
    {
     "name": "stdout",
     "output_type": "stream",
     "text": [
      "[('das_master',), ('das_ship_test_noms_champs',), ('das_onboard',), ('das_chamber',), ('das_ship',), ('das_shipType',), ('das_shipNameVariant',), ('das_voyage',), ('das_place',), ('das_yard',)]\n"
     ]
    },
    {
     "data": {
      "text/plain": [
       "(10, None)"
      ]
     },
     "execution_count": 51,
     "metadata": {},
     "output_type": "execute_result"
    }
   ],
   "source": [
    "len(rc), print(rc)"
   ]
  },
  {
   "cell_type": "code",
   "execution_count": 52,
   "id": "2d5d6a28-aa66-40b1-9f70-4f5699ddef5c",
   "metadata": {},
   "outputs": [],
   "source": [
    "q = 'SELECT * FROM ' + rc[0][0] \n",
    "ct = cnn.cursor()\n",
    "ct.execute(q)\n",
    "rct = ct.fetchall()"
   ]
  },
  {
   "cell_type": "code",
   "execution_count": 55,
   "id": "f89cf6bc-bc21-4b9c-b20e-29dd86a10c4a",
   "metadata": {},
   "outputs": [
    {
     "data": {
      "text/plain": [
       "(3073,\n",
       " [(1, 'das_mas0001', None, 'Evert', None),\n",
       "  (2, 'das_mas0002', 'Aalders', 'Aldert', None),\n",
       "  (3, 'das_mas0003', 'Aams', 'Lukas', None),\n",
       "  (4, 'das_mas0004', 'Aarnoutsz.', 'Abraham', None),\n",
       "  (5, 'das_mas0005', 'Aarson', 'Pieter', 'van')])"
      ]
     },
     "execution_count": 55,
     "metadata": {},
     "output_type": "execute_result"
    }
   ],
   "source": [
    "len(rct), rct[:5]"
   ]
  },
  {
   "cell_type": "code",
   "execution_count": null,
   "id": "53f1161b-1367-47ba-974c-4c7004dd591e",
   "metadata": {},
   "outputs": [],
   "source": []
  },
  {
   "cell_type": "code",
   "execution_count": 56,
   "id": "bd3e3132-8ae3-47f1-944e-f16c6cf52166",
   "metadata": {},
   "outputs": [],
   "source": [
    "# fermer la connexion\n",
    "cnn.close()"
   ]
  },
  {
   "cell_type": "code",
   "execution_count": null,
   "id": "a3b28cfb-fad9-46d9-b6a5-2abf6b255caf",
   "metadata": {},
   "outputs": [],
   "source": []
  }
 ],
 "metadata": {
  "kernelspec": {
   "display_name": "py310_string_science",
   "language": "python",
   "name": "py310_string_science"
  },
  "language_info": {
   "codemirror_mode": {
    "name": "ipython",
    "version": 3
   },
   "file_extension": ".py",
   "mimetype": "text/x-python",
   "name": "python",
   "nbconvert_exporter": "python",
   "pygments_lexer": "ipython3",
   "version": "3.10.8"
  }
 },
 "nbformat": 4,
 "nbformat_minor": 5
}
