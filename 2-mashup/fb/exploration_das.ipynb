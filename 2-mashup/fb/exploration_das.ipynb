{
 "cells": [
  {
   "cell_type": "code",
   "execution_count": null,
   "id": "cd29ad83-cf3a-4c8d-aa73-e8e032050a6e",
   "metadata": {},
   "outputs": [],
   "source": []
  },
  {
   "cell_type": "code",
   "execution_count": 10,
   "id": "21f4bd0c-8a93-4d11-83f1-e838c074dee7",
   "metadata": {},
   "outputs": [],
   "source": [
    "from string_grouper import match_strings, match_most_similar, \\\n",
    "    group_similar_strings, compute_pairwise_similarities, \\\n",
    "     StringGrouper"
   ]
  },
  {
   "cell_type": "code",
   "execution_count": null,
   "id": "0cb7cecc-5f11-41e8-9f80-d3330ffbd0a6",
   "metadata": {},
   "outputs": [],
   "source": []
  },
  {
   "cell_type": "code",
   "execution_count": 14,
   "id": "6b69e4b4-db5c-41ed-be61-b145095adeda",
   "metadata": {},
   "outputs": [],
   "source": [
    "q = \"\"\"with tw1 as (\n",
    "SELECT (REPLACE(voyMasterLastName, '.', '') || REPLACE(voyMasterFirstName, '.', '')) name_rec , dv.voyDepartureEDTF, dv.voyArrivalDateEDTF \n",
    "FROM das_master dm, das_voyage dv \n",
    "WHERE dv.voyMasterID = dm.voyMasterID\n",
    "ORDER BY dv.voyDepartureEDTF, dv.voyArrivalDateEDTF )\n",
    "SELECT count(*) as eff, name_rec, (group_concat(SUBSTRING(voyDepartureEDTF, 1,4)  )) liste_dates\n",
    "FROM tw1\n",
    "WHERE name_rec IS NOT NULL\n",
    "group by name_rec\n",
    "order by eff DESC;\n",
    "\"\"\"\n",
    "c = cnn.cursor()\n",
    "c.execute(q)\n",
    "rc = c.fetchall()"
   ]
  },
  {
   "cell_type": "code",
   "execution_count": 15,
   "id": "aba76944-9a7b-4d8d-8462-486a03fb4c44",
   "metadata": {},
   "outputs": [
    {
     "data": {
      "text/plain": [
       "['VisserPieter', 'VriesJakob', 'PietersenKornelis']"
      ]
     },
     "execution_count": 15,
     "metadata": {},
     "output_type": "execute_result"
    }
   ],
   "source": [
    "lst = [a[1] for a in rc]\n",
    "lst[:3]"
   ]
  },
  {
   "cell_type": "code",
   "execution_count": null,
   "id": "093789cb-8e76-4212-bf62-3986a207166f",
   "metadata": {},
   "outputs": [],
   "source": []
  },
  {
   "cell_type": "code",
   "execution_count": 16,
   "id": "c7774741-5147-47b8-a7f4-361f7f4cfea7",
   "metadata": {},
   "outputs": [
    {
     "data": {
      "text/html": [
       "<div>\n",
       "<style scoped>\n",
       "    .dataframe tbody tr th:only-of-type {\n",
       "        vertical-align: middle;\n",
       "    }\n",
       "\n",
       "    .dataframe tbody tr th {\n",
       "        vertical-align: top;\n",
       "    }\n",
       "\n",
       "    .dataframe thead th {\n",
       "        text-align: right;\n",
       "    }\n",
       "</style>\n",
       "<table border=\"1\" class=\"dataframe\">\n",
       "  <thead>\n",
       "    <tr style=\"text-align: right;\">\n",
       "      <th></th>\n",
       "      <th>eff</th>\n",
       "      <th>name_rec</th>\n",
       "      <th>liste_dates</th>\n",
       "    </tr>\n",
       "  </thead>\n",
       "  <tbody>\n",
       "    <tr>\n",
       "      <th>0</th>\n",
       "      <td>17</td>\n",
       "      <td>VisserPieter</td>\n",
       "      <td>1719,1721,1724,1725,1733,1734,1736,1736,1738,1...</td>\n",
       "    </tr>\n",
       "    <tr>\n",
       "      <th>1</th>\n",
       "      <td>16</td>\n",
       "      <td>VriesJakob</td>\n",
       "      <td>1715,1717,1725,1725,1727,1728,1757,1759,1762,1...</td>\n",
       "    </tr>\n",
       "    <tr>\n",
       "      <th>2</th>\n",
       "      <td>16</td>\n",
       "      <td>PietersenKornelis</td>\n",
       "      <td>1762,1763,1763,1764,1765,1765,1766,1766,1767,1...</td>\n",
       "    </tr>\n",
       "    <tr>\n",
       "      <th>3</th>\n",
       "      <td>14</td>\n",
       "      <td>WiebeJakob</td>\n",
       "      <td>1746,1748,1749,1749,1750,1752,1754,1755,1759,1...</td>\n",
       "    </tr>\n",
       "    <tr>\n",
       "      <th>4</th>\n",
       "      <td>13</td>\n",
       "      <td>WitJan</td>\n",
       "      <td>1614,1690,1693,1695,1696,1699,1708,1709,1740,1...</td>\n",
       "    </tr>\n",
       "  </tbody>\n",
       "</table>\n",
       "</div>"
      ],
      "text/plain": [
       "   eff           name_rec                                        liste_dates\n",
       "0   17       VisserPieter  1719,1721,1724,1725,1733,1734,1736,1736,1738,1...\n",
       "1   16         VriesJakob  1715,1717,1725,1725,1727,1728,1757,1759,1762,1...\n",
       "2   16  PietersenKornelis  1762,1763,1763,1764,1765,1765,1766,1766,1767,1...\n",
       "3   14         WiebeJakob  1746,1748,1749,1749,1750,1752,1754,1755,1759,1...\n",
       "4   13             WitJan  1614,1690,1693,1695,1696,1699,1708,1709,1740,1..."
      ]
     },
     "execution_count": 16,
     "metadata": {},
     "output_type": "execute_result"
    }
   ],
   "source": [
    "lignes_table = pd.read_sql_query(q, cnn)\n",
    "lignes_table.head()"
   ]
  },
  {
   "cell_type": "code",
   "execution_count": 17,
   "id": "3e7388cd-c231-4212-9d91-61a90546fe24",
   "metadata": {},
   "outputs": [
    {
     "data": {
      "text/html": [
       "<div>\n",
       "<style scoped>\n",
       "    .dataframe tbody tr th:only-of-type {\n",
       "        vertical-align: middle;\n",
       "    }\n",
       "\n",
       "    .dataframe tbody tr th {\n",
       "        vertical-align: top;\n",
       "    }\n",
       "\n",
       "    .dataframe thead th {\n",
       "        text-align: right;\n",
       "    }\n",
       "</style>\n",
       "<table border=\"1\" class=\"dataframe\">\n",
       "  <thead>\n",
       "    <tr style=\"text-align: right;\">\n",
       "      <th></th>\n",
       "      <th>eff</th>\n",
       "      <th>name_rec</th>\n",
       "      <th>liste_dates</th>\n",
       "      <th>group-id</th>\n",
       "      <th>name_deduped</th>\n",
       "    </tr>\n",
       "  </thead>\n",
       "  <tbody>\n",
       "    <tr>\n",
       "      <th>0</th>\n",
       "      <td>17</td>\n",
       "      <td>VisserPieter</td>\n",
       "      <td>1719,1721,1724,1725,1733,1734,1736,1736,1738,1...</td>\n",
       "      <td>0</td>\n",
       "      <td>VisserPieter</td>\n",
       "    </tr>\n",
       "    <tr>\n",
       "      <th>1</th>\n",
       "      <td>16</td>\n",
       "      <td>VriesJakob</td>\n",
       "      <td>1715,1717,1725,1725,1727,1728,1757,1759,1762,1...</td>\n",
       "      <td>1</td>\n",
       "      <td>VriesJakob</td>\n",
       "    </tr>\n",
       "    <tr>\n",
       "      <th>2</th>\n",
       "      <td>16</td>\n",
       "      <td>PietersenKornelis</td>\n",
       "      <td>1762,1763,1763,1764,1765,1765,1766,1766,1767,1...</td>\n",
       "      <td>2</td>\n",
       "      <td>PietersenKornelis</td>\n",
       "    </tr>\n",
       "    <tr>\n",
       "      <th>3</th>\n",
       "      <td>14</td>\n",
       "      <td>WiebeJakob</td>\n",
       "      <td>1746,1748,1749,1749,1750,1752,1754,1755,1759,1...</td>\n",
       "      <td>3</td>\n",
       "      <td>WiebeJakob</td>\n",
       "    </tr>\n",
       "    <tr>\n",
       "      <th>4</th>\n",
       "      <td>13</td>\n",
       "      <td>WitJan</td>\n",
       "      <td>1614,1690,1693,1695,1696,1699,1708,1709,1740,1...</td>\n",
       "      <td>4</td>\n",
       "      <td>WitJan</td>\n",
       "    </tr>\n",
       "    <tr>\n",
       "      <th>5</th>\n",
       "      <td>13</td>\n",
       "      <td>OnkruidJakob</td>\n",
       "      <td>1699,1700,1708,1710,1715,1716,1718,1718,1719,1...</td>\n",
       "      <td>5</td>\n",
       "      <td>OnkruidJakob</td>\n",
       "    </tr>\n",
       "    <tr>\n",
       "      <th>6</th>\n",
       "      <td>12</td>\n",
       "      <td>VetDirk</td>\n",
       "      <td>1724,1725,1726,1727,1729,1730,1732,1733,1734,1...</td>\n",
       "      <td>6</td>\n",
       "      <td>VetDirk</td>\n",
       "    </tr>\n",
       "    <tr>\n",
       "      <th>7</th>\n",
       "      <td>12</td>\n",
       "      <td>HarmeyerGerrit</td>\n",
       "      <td>1763,1764,1765,1766,1767,1768,1770,1771,1776,1...</td>\n",
       "      <td>7</td>\n",
       "      <td>HarmeyerGerrit</td>\n",
       "    </tr>\n",
       "  </tbody>\n",
       "</table>\n",
       "</div>"
      ],
      "text/plain": [
       "   eff           name_rec                                        liste_dates  \\\n",
       "0   17       VisserPieter  1719,1721,1724,1725,1733,1734,1736,1736,1738,1...   \n",
       "1   16         VriesJakob  1715,1717,1725,1725,1727,1728,1757,1759,1762,1...   \n",
       "2   16  PietersenKornelis  1762,1763,1763,1764,1765,1765,1766,1766,1767,1...   \n",
       "3   14         WiebeJakob  1746,1748,1749,1749,1750,1752,1754,1755,1759,1...   \n",
       "4   13             WitJan  1614,1690,1693,1695,1696,1699,1708,1709,1740,1...   \n",
       "5   13       OnkruidJakob  1699,1700,1708,1710,1715,1716,1718,1718,1719,1...   \n",
       "6   12            VetDirk  1724,1725,1726,1727,1729,1730,1732,1733,1734,1...   \n",
       "7   12     HarmeyerGerrit  1763,1764,1765,1766,1767,1768,1770,1771,1776,1...   \n",
       "\n",
       "   group-id       name_deduped  \n",
       "0         0       VisserPieter  \n",
       "1         1         VriesJakob  \n",
       "2         2  PietersenKornelis  \n",
       "3         3         WiebeJakob  \n",
       "4         4             WitJan  \n",
       "5         5       OnkruidJakob  \n",
       "6         6            VetDirk  \n",
       "7         7     HarmeyerGerrit  "
      ]
     },
     "execution_count": 17,
     "metadata": {},
     "output_type": "execute_result"
    }
   ],
   "source": [
    "# Group customers with similar names:\n",
    "lignes_table[[\"group-id\", \"name_deduped\"]]  = \\\n",
    "    group_similar_strings(lignes_table[\"name_rec\"])\n",
    "# Display the mapping table:\n",
    "lignes_table.head(8)"
   ]
  },
  {
   "cell_type": "code",
   "execution_count": null,
   "id": "fac1ce03-0b4a-423c-9e5e-6e7d568b9e4e",
   "metadata": {},
   "outputs": [],
   "source": []
  },
  {
   "cell_type": "code",
   "execution_count": 18,
   "id": "590a9c0a-2a3b-48d9-b761-6e48d605a29a",
   "metadata": {},
   "outputs": [],
   "source": [
    "df2 = lignes_table.groupby(['group-id'])['group-id'].count()"
   ]
  },
  {
   "cell_type": "code",
   "execution_count": 19,
   "id": "7e3f6a31-c1b9-4371-aecc-7cd40c2bcf83",
   "metadata": {
    "scrolled": true,
    "tags": []
   },
   "outputs": [
    {
     "data": {
      "text/plain": [
       "group-id\n",
       "1274    4\n",
       "1144    3\n",
       "1421    3\n",
       "1367    3\n",
       "1371    3\n",
       "       ..\n",
       "987     1\n",
       "988     1\n",
       "989     1\n",
       "990     1\n",
       "2971    1\n",
       "Name: group-id, Length: 2831, dtype: int64"
      ]
     },
     "execution_count": 19,
     "metadata": {},
     "output_type": "execute_result"
    }
   ],
   "source": [
    "df2.sort_values(ascending=False)"
   ]
  },
  {
   "cell_type": "code",
   "execution_count": 22,
   "id": "a3a3c107-f9db-40a4-a234-fe8b15d94627",
   "metadata": {
    "collapsed": true,
    "jupyter": {
     "outputs_hidden": true
    },
    "scrolled": true,
    "tags": []
   },
   "outputs": [
    {
     "data": {
      "text/html": [
       "<div>\n",
       "<style scoped>\n",
       "    .dataframe tbody tr th:only-of-type {\n",
       "        vertical-align: middle;\n",
       "    }\n",
       "\n",
       "    .dataframe tbody tr th {\n",
       "        vertical-align: top;\n",
       "    }\n",
       "\n",
       "    .dataframe thead th {\n",
       "        text-align: right;\n",
       "    }\n",
       "</style>\n",
       "<table border=\"1\" class=\"dataframe\">\n",
       "  <thead>\n",
       "    <tr style=\"text-align: right;\">\n",
       "      <th></th>\n",
       "      <th>name_rec</th>\n",
       "      <th>liste_dates</th>\n",
       "      <th>group-id</th>\n",
       "      <th>name_deduped</th>\n",
       "    </tr>\n",
       "  </thead>\n",
       "  <tbody>\n",
       "    <tr>\n",
       "      <th>777</th>\n",
       "      <td>KorneliszKornelis</td>\n",
       "      <td>1614,1614,1676</td>\n",
       "      <td>1274</td>\n",
       "      <td>JanszKornelis</td>\n",
       "    </tr>\n",
       "    <tr>\n",
       "      <th>1274</th>\n",
       "      <td>JanszKornelis</td>\n",
       "      <td>1629,1695</td>\n",
       "      <td>1274</td>\n",
       "      <td>JanszKornelis</td>\n",
       "    </tr>\n",
       "    <tr>\n",
       "      <th>1344</th>\n",
       "      <td>FranszKornelis</td>\n",
       "      <td>1628,1629</td>\n",
       "      <td>1274</td>\n",
       "      <td>JanszKornelis</td>\n",
       "    </tr>\n",
       "    <tr>\n",
       "      <th>2509</th>\n",
       "      <td>HanszKornelis</td>\n",
       "      <td>1613</td>\n",
       "      <td>1274</td>\n",
       "      <td>JanszKornelis</td>\n",
       "    </tr>\n",
       "  </tbody>\n",
       "</table>\n",
       "</div>"
      ],
      "text/plain": [
       "               name_rec     liste_dates  group-id   name_deduped\n",
       "777   KorneliszKornelis  1614,1614,1676      1274  JanszKornelis\n",
       "1274      JanszKornelis       1629,1695      1274  JanszKornelis\n",
       "1344     FranszKornelis       1628,1629      1274  JanszKornelis\n",
       "2509      HanszKornelis            1613      1274  JanszKornelis"
      ]
     },
     "execution_count": 22,
     "metadata": {},
     "output_type": "execute_result"
    }
   ],
   "source": [
    "lignes_table[[\"name_rec\", \"liste_dates\", \"group-id\",\"name_deduped\"]][lignes_table['group-id'] == 1274]"
   ]
  }
 ],
 "metadata": {
  "kernelspec": {
   "display_name": "py310_string_science",
   "language": "python",
   "name": "py310_string_science"
  },
  "language_info": {
   "codemirror_mode": {
    "name": "ipython",
    "version": 3
   },
   "file_extension": ".py",
   "mimetype": "text/x-python",
   "name": "python",
   "nbconvert_exporter": "python",
   "pygments_lexer": "ipython3",
   "version": "3.10.8"
  }
 },
 "nbformat": 4,
 "nbformat_minor": 5
}
