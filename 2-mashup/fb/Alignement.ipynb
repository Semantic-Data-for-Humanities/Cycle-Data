{
 "cells": [
  {
   "cell_type": "markdown",
   "id": "347ba9ed",
   "metadata": {},
   "source": [
    "\n",
    "\n"
   ]
  },
  {
   "cell_type": "markdown",
   "id": "38963680-0b81-49c6-aa60-c1d8bb554565",
   "metadata": {},
   "source": []
  },
  {
   "cell_type": "code",
   "execution_count": 34,
   "id": "6ad5334a-9cc6-4906-b9f2-167dd691997c",
   "metadata": {},
   "outputs": [],
   "source": [
    "import pandas as pd\n",
    "import Levenshtein as lv"
   ]
  },
  {
   "cell_type": "code",
   "execution_count": 4,
   "id": "5f580ade-a63a-4033-92c6-dfa50b11a765",
   "metadata": {},
   "outputs": [],
   "source": [
    "import os"
   ]
  },
  {
   "cell_type": "code",
   "execution_count": 9,
   "id": "2b51478f-cc4b-470b-a714-27d740127958",
   "metadata": {},
   "outputs": [
    {
     "name": "stdout",
     "output_type": "stream",
     "text": [
      "/home/francesco/shared_files/python_notebooks/SD_for_HSS/Cycle-Data\n"
     ]
    }
   ],
   "source": [
    "csd = os.getcwd()\n",
    "print(csd)"
   ]
  },
  {
   "cell_type": "code",
   "execution_count": 8,
   "id": "83686825-ad12-4fef-b58c-ebf5c6db99a4",
   "metadata": {},
   "outputs": [],
   "source": [
    "os.chdir('/home/francesco/shared_files/python_notebooks/SD_for_HSS/Cycle-Data')"
   ]
  },
  {
   "cell_type": "code",
   "execution_count": 16,
   "id": "93954836-d844-48ca-86c0-9d326a4b0dfd",
   "metadata": {},
   "outputs": [],
   "source": [
    "tt = pd.read_csv('./1-dataviz_tools/netherlands.csv')"
   ]
  },
  {
   "cell_type": "code",
   "execution_count": 17,
   "id": "2be4a4d5-3d54-41c1-9e27-e4fd0879bb46",
   "metadata": {},
   "outputs": [
    {
     "data": {
      "text/plain": [
       "(1909,\n",
       "   Flag of vessel Date vessel departed with captives          Vessel name  \\\n",
       " 0    Netherlands               1732-09-03T00:00:00Z            Waartwijk   \n",
       " 1    Netherlands               1706-09-09T00:00:00Z        Wakende Kraan   \n",
       " 2    Netherlands               1706-09-09T00:00:00Z        Wakende Kraan   \n",
       " 3    Netherlands                                NaN  Wapen van Amsterdam   \n",
       " 4    Netherlands                                NaN  Wapen van Amsterdam   \n",
       " \n",
       "         Captain's name  \n",
       " 0    Velde, Daniel ter  \n",
       " 1  Hoeven, Jan van der  \n",
       " 2       Wenman, Roelof  \n",
       " 3                  NaN  \n",
       " 4       Scheij, Pieter  )"
      ]
     },
     "execution_count": 17,
     "metadata": {},
     "output_type": "execute_result"
    }
   ],
   "source": [
    "len(tt), tt.head()"
   ]
  },
  {
   "cell_type": "code",
   "execution_count": 60,
   "id": "6ebd1420-cea2-4ec8-892a-983c94a5e7e1",
   "metadata": {},
   "outputs": [
    {
     "data": {
      "text/html": [
       "<div>\n",
       "<style scoped>\n",
       "    .dataframe tbody tr th:only-of-type {\n",
       "        vertical-align: middle;\n",
       "    }\n",
       "\n",
       "    .dataframe tbody tr th {\n",
       "        vertical-align: top;\n",
       "    }\n",
       "\n",
       "    .dataframe thead th {\n",
       "        text-align: right;\n",
       "    }\n",
       "</style>\n",
       "<table border=\"1\" class=\"dataframe\">\n",
       "  <thead>\n",
       "    <tr style=\"text-align: right;\">\n",
       "      <th></th>\n",
       "      <th>flag</th>\n",
       "      <th>date_departed</th>\n",
       "      <th>name</th>\n",
       "      <th>captain</th>\n",
       "    </tr>\n",
       "  </thead>\n",
       "  <tbody>\n",
       "    <tr>\n",
       "      <th>0</th>\n",
       "      <td>Netherlands</td>\n",
       "      <td>1732-09-03T00:00:00Z</td>\n",
       "      <td>Waartwijk</td>\n",
       "      <td>Velde, Daniel ter</td>\n",
       "    </tr>\n",
       "    <tr>\n",
       "      <th>1</th>\n",
       "      <td>Netherlands</td>\n",
       "      <td>1706-09-09T00:00:00Z</td>\n",
       "      <td>Wakende Kraan</td>\n",
       "      <td>Hoeven, Jan van der</td>\n",
       "    </tr>\n",
       "    <tr>\n",
       "      <th>2</th>\n",
       "      <td>Netherlands</td>\n",
       "      <td>1706-09-09T00:00:00Z</td>\n",
       "      <td>Wakende Kraan</td>\n",
       "      <td>Wenman, Roelof</td>\n",
       "    </tr>\n",
       "    <tr>\n",
       "      <th>3</th>\n",
       "      <td>Netherlands</td>\n",
       "      <td>NaN</td>\n",
       "      <td>Wapen van Amsterdam</td>\n",
       "      <td>NaN</td>\n",
       "    </tr>\n",
       "    <tr>\n",
       "      <th>4</th>\n",
       "      <td>Netherlands</td>\n",
       "      <td>NaN</td>\n",
       "      <td>Wapen van Amsterdam</td>\n",
       "      <td>Scheij, Pieter</td>\n",
       "    </tr>\n",
       "  </tbody>\n",
       "</table>\n",
       "</div>"
      ],
      "text/plain": [
       "          flag         date_departed                 name              captain\n",
       "0  Netherlands  1732-09-03T00:00:00Z            Waartwijk    Velde, Daniel ter\n",
       "1  Netherlands  1706-09-09T00:00:00Z        Wakende Kraan  Hoeven, Jan van der\n",
       "2  Netherlands  1706-09-09T00:00:00Z        Wakende Kraan       Wenman, Roelof\n",
       "3  Netherlands                   NaN  Wapen van Amsterdam                  NaN\n",
       "4  Netherlands                   NaN  Wapen van Amsterdam       Scheij, Pieter"
      ]
     },
     "execution_count": 60,
     "metadata": {},
     "output_type": "execute_result"
    }
   ],
   "source": [
    "tt.columns = ['flag','date_departed', 'name', 'captain']\n",
    "\n",
    "tt.head()"
   ]
  },
  {
   "cell_type": "code",
   "execution_count": 50,
   "id": "73952d62-10e0-46ea-ac60-1457066731f5",
   "metadata": {},
   "outputs": [
    {
     "name": "stdout",
     "output_type": "stream",
     "text": [
      "amsterdamvanwapen\n"
     ]
    }
   ],
   "source": [
    "tts = ''.join(sorted(tt['name'][3].lower().split()))\n",
    "print(tts)"
   ]
  },
  {
   "cell_type": "code",
   "execution_count": 51,
   "id": "c32d7698-784f-4d09-bce1-2f6f46860e2a",
   "metadata": {},
   "outputs": [
    {
     "data": {
      "text/plain": [
       "3"
      ]
     },
     "execution_count": 51,
     "metadata": {},
     "output_type": "execute_result"
    }
   ],
   "source": [
    "### https://www.statology.org/levenshtein-distance-in-python/\n",
    "t1 = 'amsterdamwapen'\n",
    "lv.distance(tts, t1)"
   ]
  },
  {
   "cell_type": "code",
   "execution_count": 64,
   "id": "f544fcee-31c4-4a60-9893-f53b0991a0bb",
   "metadata": {},
   "outputs": [
    {
     "data": {
      "text/html": [
       "<div>\n",
       "<style scoped>\n",
       "    .dataframe tbody tr th:only-of-type {\n",
       "        vertical-align: middle;\n",
       "    }\n",
       "\n",
       "    .dataframe tbody tr th {\n",
       "        vertical-align: top;\n",
       "    }\n",
       "\n",
       "    .dataframe thead th {\n",
       "        text-align: right;\n",
       "    }\n",
       "</style>\n",
       "<table border=\"1\" class=\"dataframe\">\n",
       "  <thead>\n",
       "    <tr style=\"text-align: right;\">\n",
       "      <th></th>\n",
       "      <th>flag</th>\n",
       "      <th>date_departed</th>\n",
       "      <th>name</th>\n",
       "      <th>captain</th>\n",
       "    </tr>\n",
       "  </thead>\n",
       "  <tbody>\n",
       "    <tr>\n",
       "      <th>0</th>\n",
       "      <td>Netherlands</td>\n",
       "      <td>1732-09-03T00:00:00Z</td>\n",
       "      <td>Waartwijk</td>\n",
       "      <td>Velde, Daniel ter</td>\n",
       "    </tr>\n",
       "    <tr>\n",
       "      <th>1</th>\n",
       "      <td>Netherlands</td>\n",
       "      <td>1706-09-09T00:00:00Z</td>\n",
       "      <td>Wakende Kraan</td>\n",
       "      <td>Hoeven, Jan van der</td>\n",
       "    </tr>\n",
       "    <tr>\n",
       "      <th>2</th>\n",
       "      <td>Netherlands</td>\n",
       "      <td>1706-09-09T00:00:00Z</td>\n",
       "      <td>Wakende Kraan</td>\n",
       "      <td>Wenman, Roelof</td>\n",
       "    </tr>\n",
       "    <tr>\n",
       "      <th>3</th>\n",
       "      <td>Netherlands</td>\n",
       "      <td></td>\n",
       "      <td>Wapen van Amsterdam</td>\n",
       "      <td></td>\n",
       "    </tr>\n",
       "    <tr>\n",
       "      <th>4</th>\n",
       "      <td>Netherlands</td>\n",
       "      <td></td>\n",
       "      <td>Wapen van Amsterdam</td>\n",
       "      <td>Scheij, Pieter</td>\n",
       "    </tr>\n",
       "  </tbody>\n",
       "</table>\n",
       "</div>"
      ],
      "text/plain": [
       "          flag         date_departed                 name              captain\n",
       "0  Netherlands  1732-09-03T00:00:00Z            Waartwijk    Velde, Daniel ter\n",
       "1  Netherlands  1706-09-09T00:00:00Z        Wakende Kraan  Hoeven, Jan van der\n",
       "2  Netherlands  1706-09-09T00:00:00Z        Wakende Kraan       Wenman, Roelof\n",
       "3  Netherlands                        Wapen van Amsterdam                     \n",
       "4  Netherlands                        Wapen van Amsterdam       Scheij, Pieter"
      ]
     },
     "execution_count": 64,
     "metadata": {},
     "output_type": "execute_result"
    }
   ],
   "source": [
    "tt=tt.fillna('')\n",
    "tt.head()"
   ]
  },
  {
   "cell_type": "code",
   "execution_count": 65,
   "id": "b6146352-9832-4770-bc60-9bb1fad18584",
   "metadata": {},
   "outputs": [
    {
     "data": {
      "text/html": [
       "<div>\n",
       "<style scoped>\n",
       "    .dataframe tbody tr th:only-of-type {\n",
       "        vertical-align: middle;\n",
       "    }\n",
       "\n",
       "    .dataframe tbody tr th {\n",
       "        vertical-align: top;\n",
       "    }\n",
       "\n",
       "    .dataframe thead th {\n",
       "        text-align: right;\n",
       "    }\n",
       "</style>\n",
       "<table border=\"1\" class=\"dataframe\">\n",
       "  <thead>\n",
       "    <tr style=\"text-align: right;\">\n",
       "      <th></th>\n",
       "      <th>flag</th>\n",
       "      <th>date_departed</th>\n",
       "      <th>name</th>\n",
       "      <th>captain</th>\n",
       "    </tr>\n",
       "  </thead>\n",
       "  <tbody>\n",
       "    <tr>\n",
       "      <th>0</th>\n",
       "      <td>False</td>\n",
       "      <td>False</td>\n",
       "      <td>False</td>\n",
       "      <td>False</td>\n",
       "    </tr>\n",
       "    <tr>\n",
       "      <th>1</th>\n",
       "      <td>False</td>\n",
       "      <td>False</td>\n",
       "      <td>False</td>\n",
       "      <td>False</td>\n",
       "    </tr>\n",
       "    <tr>\n",
       "      <th>2</th>\n",
       "      <td>False</td>\n",
       "      <td>False</td>\n",
       "      <td>False</td>\n",
       "      <td>False</td>\n",
       "    </tr>\n",
       "    <tr>\n",
       "      <th>3</th>\n",
       "      <td>False</td>\n",
       "      <td>False</td>\n",
       "      <td>False</td>\n",
       "      <td>False</td>\n",
       "    </tr>\n",
       "    <tr>\n",
       "      <th>4</th>\n",
       "      <td>False</td>\n",
       "      <td>False</td>\n",
       "      <td>False</td>\n",
       "      <td>False</td>\n",
       "    </tr>\n",
       "    <tr>\n",
       "      <th>...</th>\n",
       "      <td>...</td>\n",
       "      <td>...</td>\n",
       "      <td>...</td>\n",
       "      <td>...</td>\n",
       "    </tr>\n",
       "    <tr>\n",
       "      <th>1904</th>\n",
       "      <td>False</td>\n",
       "      <td>False</td>\n",
       "      <td>False</td>\n",
       "      <td>False</td>\n",
       "    </tr>\n",
       "    <tr>\n",
       "      <th>1905</th>\n",
       "      <td>False</td>\n",
       "      <td>False</td>\n",
       "      <td>False</td>\n",
       "      <td>False</td>\n",
       "    </tr>\n",
       "    <tr>\n",
       "      <th>1906</th>\n",
       "      <td>False</td>\n",
       "      <td>False</td>\n",
       "      <td>False</td>\n",
       "      <td>False</td>\n",
       "    </tr>\n",
       "    <tr>\n",
       "      <th>1907</th>\n",
       "      <td>False</td>\n",
       "      <td>False</td>\n",
       "      <td>False</td>\n",
       "      <td>False</td>\n",
       "    </tr>\n",
       "    <tr>\n",
       "      <th>1908</th>\n",
       "      <td>False</td>\n",
       "      <td>False</td>\n",
       "      <td>False</td>\n",
       "      <td>False</td>\n",
       "    </tr>\n",
       "  </tbody>\n",
       "</table>\n",
       "<p>1909 rows × 4 columns</p>\n",
       "</div>"
      ],
      "text/plain": [
       "       flag  date_departed   name  captain\n",
       "0     False          False  False    False\n",
       "1     False          False  False    False\n",
       "2     False          False  False    False\n",
       "3     False          False  False    False\n",
       "4     False          False  False    False\n",
       "...     ...            ...    ...      ...\n",
       "1904  False          False  False    False\n",
       "1905  False          False  False    False\n",
       "1906  False          False  False    False\n",
       "1907  False          False  False    False\n",
       "1908  False          False  False    False\n",
       "\n",
       "[1909 rows x 4 columns]"
      ]
     },
     "execution_count": 65,
     "metadata": {},
     "output_type": "execute_result"
    }
   ],
   "source": [
    "tt.isna()"
   ]
  },
  {
   "cell_type": "code",
   "execution_count": null,
   "id": "0693995e-5bf4-420e-81ef-fe3ef068153a",
   "metadata": {},
   "outputs": [],
   "source": []
  },
  {
   "cell_type": "code",
   "execution_count": 66,
   "id": "c1b50ffd-7f3a-4dbe-98c4-0312441f1eac",
   "metadata": {},
   "outputs": [
    {
     "data": {
      "text/html": [
       "<div>\n",
       "<style scoped>\n",
       "    .dataframe tbody tr th:only-of-type {\n",
       "        vertical-align: middle;\n",
       "    }\n",
       "\n",
       "    .dataframe tbody tr th {\n",
       "        vertical-align: top;\n",
       "    }\n",
       "\n",
       "    .dataframe thead th {\n",
       "        text-align: right;\n",
       "    }\n",
       "</style>\n",
       "<table border=\"1\" class=\"dataframe\">\n",
       "  <thead>\n",
       "    <tr style=\"text-align: right;\">\n",
       "      <th></th>\n",
       "      <th>flag</th>\n",
       "      <th>date_departed</th>\n",
       "      <th>name</th>\n",
       "      <th>captain</th>\n",
       "    </tr>\n",
       "  </thead>\n",
       "  <tbody>\n",
       "    <tr>\n",
       "      <th>3</th>\n",
       "      <td>Netherlands</td>\n",
       "      <td></td>\n",
       "      <td>Wapen van Amsterdam</td>\n",
       "      <td></td>\n",
       "    </tr>\n",
       "    <tr>\n",
       "      <th>4</th>\n",
       "      <td>Netherlands</td>\n",
       "      <td></td>\n",
       "      <td>Wapen van Amsterdam</td>\n",
       "      <td>Scheij, Pieter</td>\n",
       "    </tr>\n",
       "    <tr>\n",
       "      <th>937</th>\n",
       "      <td>Netherlands</td>\n",
       "      <td>1663-04-28T00:00:00Z</td>\n",
       "      <td>Wapen van Amsterdam</td>\n",
       "      <td>Nuchteren, Jan Gerritsen</td>\n",
       "    </tr>\n",
       "    <tr>\n",
       "      <th>938</th>\n",
       "      <td>Netherlands</td>\n",
       "      <td>1663-04-28T00:00:00Z</td>\n",
       "      <td>Wapen van Amsterdam</td>\n",
       "      <td>Ridder, Paulus Heijn</td>\n",
       "    </tr>\n",
       "  </tbody>\n",
       "</table>\n",
       "</div>"
      ],
      "text/plain": [
       "            flag         date_departed                 name  \\\n",
       "3    Netherlands                        Wapen van Amsterdam   \n",
       "4    Netherlands                        Wapen van Amsterdam   \n",
       "937  Netherlands  1663-04-28T00:00:00Z  Wapen van Amsterdam   \n",
       "938  Netherlands  1663-04-28T00:00:00Z  Wapen van Amsterdam   \n",
       "\n",
       "                      captain  \n",
       "3                              \n",
       "4              Scheij, Pieter  \n",
       "937  Nuchteren, Jan Gerritsen  \n",
       "938      Ridder, Paulus Heijn  "
      ]
     },
     "execution_count": 66,
     "metadata": {},
     "output_type": "execute_result"
    }
   ],
   "source": [
    "tt[tt[\"name\"].str.contains('Wapen van Amsterdam')]"
   ]
  },
  {
   "cell_type": "code",
   "execution_count": null,
   "id": "a560b21a-da1f-4ae5-9247-803c0320d046",
   "metadata": {},
   "outputs": [],
   "source": []
  }
 ],
 "metadata": {
  "kernelspec": {
   "display_name": "py310_nlp",
   "language": "python",
   "name": "py310_nlp"
  },
  "language_info": {
   "codemirror_mode": {
    "name": "ipython",
    "version": 3
   },
   "file_extension": ".py",
   "mimetype": "text/x-python",
   "name": "python",
   "nbconvert_exporter": "python",
   "pygments_lexer": "ipython3",
   "version": "3.10.8"
  }
 },
 "nbformat": 4,
 "nbformat_minor": 5
}
