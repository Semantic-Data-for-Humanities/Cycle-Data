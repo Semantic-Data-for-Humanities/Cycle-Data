{
 "cells": [
  {
   "cell_type": "markdown",
   "id": "347ba9ed",
   "metadata": {},
   "source": [
    "\n",
    "\n"
   ]
  },
  {
   "cell_type": "markdown",
   "id": "38963680-0b81-49c6-aa60-c1d8bb554565",
   "metadata": {},
   "source": []
  },
  {
   "cell_type": "code",
   "execution_count": 1,
   "id": "6ad5334a-9cc6-4906-b9f2-167dd691997c",
   "metadata": {},
   "outputs": [],
   "source": [
    "import pandas as pd\n",
    "from string_grouper import match_strings, match_most_similar, \\\n",
    "    group_similar_strings, compute_pairwise_similarities, \\\n",
    "     StringGrouper"
   ]
  },
  {
   "cell_type": "code",
   "execution_count": 2,
   "id": "5f580ade-a63a-4033-92c6-dfa50b11a765",
   "metadata": {},
   "outputs": [],
   "source": [
    "import os\n",
    "import sqlite3 as sql\n",
    "import plotly.express as px\n",
    "import plotly.io as pio"
   ]
  },
  {
   "cell_type": "code",
   "execution_count": 3,
   "id": "6b8c5703-5841-40a2-95cf-1e1ca3ddca58",
   "metadata": {},
   "outputs": [],
   "source": [
    "pio.renderers.default = \"jupyterlab\""
   ]
  },
  {
   "cell_type": "code",
   "execution_count": 4,
   "id": "2b51478f-cc4b-470b-a714-27d740127958",
   "metadata": {},
   "outputs": [
    {
     "name": "stdout",
     "output_type": "stream",
     "text": [
      "/home/francesco/shared_files/python_notebooks/SD_for_HSS/Cycle-Data/2-mashup/fb\n"
     ]
    }
   ],
   "source": [
    "csd = os.getcwd()\n",
    "print(csd)"
   ]
  },
  {
   "cell_type": "code",
   "execution_count": 5,
   "id": "83686825-ad12-4fef-b58c-ebf5c6db99a4",
   "metadata": {},
   "outputs": [],
   "source": [
    "os.chdir('/home/francesco/shared_files/python_notebooks/SD_for_HSS/Cycle-Data')"
   ]
  },
  {
   "cell_type": "code",
   "execution_count": 6,
   "id": "93954836-d844-48ca-86c0-9d326a4b0dfd",
   "metadata": {},
   "outputs": [],
   "source": [
    "tt = pd.read_csv('./1-dataviz_tools/netherlands.csv')"
   ]
  },
  {
   "cell_type": "code",
   "execution_count": 7,
   "id": "2be4a4d5-3d54-41c1-9e27-e4fd0879bb46",
   "metadata": {},
   "outputs": [
    {
     "data": {
      "text/plain": [
       "(1909,\n",
       "   Flag of vessel Date vessel departed with captives          Vessel name  \\\n",
       " 0    Netherlands               1732-09-03T00:00:00Z            Waartwijk   \n",
       " 1    Netherlands               1706-09-09T00:00:00Z        Wakende Kraan   \n",
       " 2    Netherlands               1706-09-09T00:00:00Z        Wakende Kraan   \n",
       " 3    Netherlands                                NaN  Wapen van Amsterdam   \n",
       " 4    Netherlands                                NaN  Wapen van Amsterdam   \n",
       " \n",
       "         Captain's name  \n",
       " 0    Velde, Daniel ter  \n",
       " 1  Hoeven, Jan van der  \n",
       " 2       Wenman, Roelof  \n",
       " 3                  NaN  \n",
       " 4       Scheij, Pieter  )"
      ]
     },
     "execution_count": 7,
     "metadata": {},
     "output_type": "execute_result"
    }
   ],
   "source": [
    "len(tt), tt.head()"
   ]
  },
  {
   "cell_type": "code",
   "execution_count": 8,
   "id": "6ebd1420-cea2-4ec8-892a-983c94a5e7e1",
   "metadata": {},
   "outputs": [
    {
     "data": {
      "text/html": [
       "<div>\n",
       "<style scoped>\n",
       "    .dataframe tbody tr th:only-of-type {\n",
       "        vertical-align: middle;\n",
       "    }\n",
       "\n",
       "    .dataframe tbody tr th {\n",
       "        vertical-align: top;\n",
       "    }\n",
       "\n",
       "    .dataframe thead th {\n",
       "        text-align: right;\n",
       "    }\n",
       "</style>\n",
       "<table border=\"1\" class=\"dataframe\">\n",
       "  <thead>\n",
       "    <tr style=\"text-align: right;\">\n",
       "      <th></th>\n",
       "      <th>flag</th>\n",
       "      <th>date_departed</th>\n",
       "      <th>name</th>\n",
       "      <th>captain</th>\n",
       "    </tr>\n",
       "  </thead>\n",
       "  <tbody>\n",
       "    <tr>\n",
       "      <th>0</th>\n",
       "      <td>Netherlands</td>\n",
       "      <td>1732-09-03T00:00:00Z</td>\n",
       "      <td>Waartwijk</td>\n",
       "      <td>Velde, Daniel ter</td>\n",
       "    </tr>\n",
       "    <tr>\n",
       "      <th>1</th>\n",
       "      <td>Netherlands</td>\n",
       "      <td>1706-09-09T00:00:00Z</td>\n",
       "      <td>Wakende Kraan</td>\n",
       "      <td>Hoeven, Jan van der</td>\n",
       "    </tr>\n",
       "    <tr>\n",
       "      <th>2</th>\n",
       "      <td>Netherlands</td>\n",
       "      <td>1706-09-09T00:00:00Z</td>\n",
       "      <td>Wakende Kraan</td>\n",
       "      <td>Wenman, Roelof</td>\n",
       "    </tr>\n",
       "    <tr>\n",
       "      <th>3</th>\n",
       "      <td>Netherlands</td>\n",
       "      <td>NaN</td>\n",
       "      <td>Wapen van Amsterdam</td>\n",
       "      <td>NaN</td>\n",
       "    </tr>\n",
       "    <tr>\n",
       "      <th>4</th>\n",
       "      <td>Netherlands</td>\n",
       "      <td>NaN</td>\n",
       "      <td>Wapen van Amsterdam</td>\n",
       "      <td>Scheij, Pieter</td>\n",
       "    </tr>\n",
       "  </tbody>\n",
       "</table>\n",
       "</div>"
      ],
      "text/plain": [
       "          flag         date_departed                 name              captain\n",
       "0  Netherlands  1732-09-03T00:00:00Z            Waartwijk    Velde, Daniel ter\n",
       "1  Netherlands  1706-09-09T00:00:00Z        Wakende Kraan  Hoeven, Jan van der\n",
       "2  Netherlands  1706-09-09T00:00:00Z        Wakende Kraan       Wenman, Roelof\n",
       "3  Netherlands                   NaN  Wapen van Amsterdam                  NaN\n",
       "4  Netherlands                   NaN  Wapen van Amsterdam       Scheij, Pieter"
      ]
     },
     "execution_count": 8,
     "metadata": {},
     "output_type": "execute_result"
    }
   ],
   "source": [
    "tt.columns = ['flag','date_departed', 'name', 'captain']\n",
    "\n",
    "tt.head()"
   ]
  },
  {
   "cell_type": "code",
   "execution_count": 9,
   "id": "73952d62-10e0-46ea-ac60-1457066731f5",
   "metadata": {},
   "outputs": [
    {
     "name": "stdout",
     "output_type": "stream",
     "text": [
      "amsterdamvanwapen\n"
     ]
    }
   ],
   "source": [
    "tts = ''.join(sorted(tt['name'][3].lower().split()))\n",
    "print(tts)"
   ]
  },
  {
   "cell_type": "code",
   "execution_count": 11,
   "id": "c32d7698-784f-4d09-bce1-2f6f46860e2a",
   "metadata": {},
   "outputs": [
    {
     "ename": "NameError",
     "evalue": "name 'lv' is not defined",
     "output_type": "error",
     "traceback": [
      "\u001b[0;31m---------------------------------------------------------------------------\u001b[0m",
      "\u001b[0;31mNameError\u001b[0m                                 Traceback (most recent call last)",
      "Cell \u001b[0;32mIn[11], line 3\u001b[0m\n\u001b[1;32m      1\u001b[0m \u001b[38;5;66;03m### https://www.statology.org/levenshtein-distance-in-python/\u001b[39;00m\n\u001b[1;32m      2\u001b[0m t1 \u001b[38;5;241m=\u001b[39m \u001b[38;5;124m'\u001b[39m\u001b[38;5;124mamsterdamwapen\u001b[39m\u001b[38;5;124m'\u001b[39m\n\u001b[0;32m----> 3\u001b[0m \u001b[43mlv\u001b[49m\u001b[38;5;241m.\u001b[39mdistance(tts, t1)\n",
      "\u001b[0;31mNameError\u001b[0m: name 'lv' is not defined"
     ]
    }
   ],
   "source": [
    "### https://www.statology.org/levenshtein-distance-in-python/\n",
    "t1 = 'amsterdamwapen'\n",
    "lv.distance(tts, t1)"
   ]
  },
  {
   "cell_type": "code",
   "execution_count": 10,
   "id": "f544fcee-31c4-4a60-9893-f53b0991a0bb",
   "metadata": {},
   "outputs": [
    {
     "data": {
      "text/html": [
       "<div>\n",
       "<style scoped>\n",
       "    .dataframe tbody tr th:only-of-type {\n",
       "        vertical-align: middle;\n",
       "    }\n",
       "\n",
       "    .dataframe tbody tr th {\n",
       "        vertical-align: top;\n",
       "    }\n",
       "\n",
       "    .dataframe thead th {\n",
       "        text-align: right;\n",
       "    }\n",
       "</style>\n",
       "<table border=\"1\" class=\"dataframe\">\n",
       "  <thead>\n",
       "    <tr style=\"text-align: right;\">\n",
       "      <th></th>\n",
       "      <th>flag</th>\n",
       "      <th>date_departed</th>\n",
       "      <th>name</th>\n",
       "      <th>captain</th>\n",
       "    </tr>\n",
       "  </thead>\n",
       "  <tbody>\n",
       "    <tr>\n",
       "      <th>0</th>\n",
       "      <td>Netherlands</td>\n",
       "      <td>1732-09-03T00:00:00Z</td>\n",
       "      <td>Waartwijk</td>\n",
       "      <td>Velde, Daniel ter</td>\n",
       "    </tr>\n",
       "    <tr>\n",
       "      <th>1</th>\n",
       "      <td>Netherlands</td>\n",
       "      <td>1706-09-09T00:00:00Z</td>\n",
       "      <td>Wakende Kraan</td>\n",
       "      <td>Hoeven, Jan van der</td>\n",
       "    </tr>\n",
       "    <tr>\n",
       "      <th>2</th>\n",
       "      <td>Netherlands</td>\n",
       "      <td>1706-09-09T00:00:00Z</td>\n",
       "      <td>Wakende Kraan</td>\n",
       "      <td>Wenman, Roelof</td>\n",
       "    </tr>\n",
       "    <tr>\n",
       "      <th>3</th>\n",
       "      <td>Netherlands</td>\n",
       "      <td></td>\n",
       "      <td>Wapen van Amsterdam</td>\n",
       "      <td></td>\n",
       "    </tr>\n",
       "    <tr>\n",
       "      <th>4</th>\n",
       "      <td>Netherlands</td>\n",
       "      <td></td>\n",
       "      <td>Wapen van Amsterdam</td>\n",
       "      <td>Scheij, Pieter</td>\n",
       "    </tr>\n",
       "  </tbody>\n",
       "</table>\n",
       "</div>"
      ],
      "text/plain": [
       "          flag         date_departed                 name              captain\n",
       "0  Netherlands  1732-09-03T00:00:00Z            Waartwijk    Velde, Daniel ter\n",
       "1  Netherlands  1706-09-09T00:00:00Z        Wakende Kraan  Hoeven, Jan van der\n",
       "2  Netherlands  1706-09-09T00:00:00Z        Wakende Kraan       Wenman, Roelof\n",
       "3  Netherlands                        Wapen van Amsterdam                     \n",
       "4  Netherlands                        Wapen van Amsterdam       Scheij, Pieter"
      ]
     },
     "execution_count": 10,
     "metadata": {},
     "output_type": "execute_result"
    }
   ],
   "source": [
    "tt=tt.fillna('')\n",
    "tt.head()"
   ]
  },
  {
   "cell_type": "code",
   "execution_count": 11,
   "id": "b6146352-9832-4770-bc60-9bb1fad18584",
   "metadata": {},
   "outputs": [
    {
     "data": {
      "text/html": [
       "<div>\n",
       "<style scoped>\n",
       "    .dataframe tbody tr th:only-of-type {\n",
       "        vertical-align: middle;\n",
       "    }\n",
       "\n",
       "    .dataframe tbody tr th {\n",
       "        vertical-align: top;\n",
       "    }\n",
       "\n",
       "    .dataframe thead th {\n",
       "        text-align: right;\n",
       "    }\n",
       "</style>\n",
       "<table border=\"1\" class=\"dataframe\">\n",
       "  <thead>\n",
       "    <tr style=\"text-align: right;\">\n",
       "      <th></th>\n",
       "      <th>flag</th>\n",
       "      <th>date_departed</th>\n",
       "      <th>name</th>\n",
       "      <th>captain</th>\n",
       "    </tr>\n",
       "  </thead>\n",
       "  <tbody>\n",
       "    <tr>\n",
       "      <th>0</th>\n",
       "      <td>False</td>\n",
       "      <td>False</td>\n",
       "      <td>False</td>\n",
       "      <td>False</td>\n",
       "    </tr>\n",
       "    <tr>\n",
       "      <th>1</th>\n",
       "      <td>False</td>\n",
       "      <td>False</td>\n",
       "      <td>False</td>\n",
       "      <td>False</td>\n",
       "    </tr>\n",
       "    <tr>\n",
       "      <th>2</th>\n",
       "      <td>False</td>\n",
       "      <td>False</td>\n",
       "      <td>False</td>\n",
       "      <td>False</td>\n",
       "    </tr>\n",
       "    <tr>\n",
       "      <th>3</th>\n",
       "      <td>False</td>\n",
       "      <td>False</td>\n",
       "      <td>False</td>\n",
       "      <td>False</td>\n",
       "    </tr>\n",
       "    <tr>\n",
       "      <th>4</th>\n",
       "      <td>False</td>\n",
       "      <td>False</td>\n",
       "      <td>False</td>\n",
       "      <td>False</td>\n",
       "    </tr>\n",
       "    <tr>\n",
       "      <th>...</th>\n",
       "      <td>...</td>\n",
       "      <td>...</td>\n",
       "      <td>...</td>\n",
       "      <td>...</td>\n",
       "    </tr>\n",
       "    <tr>\n",
       "      <th>1904</th>\n",
       "      <td>False</td>\n",
       "      <td>False</td>\n",
       "      <td>False</td>\n",
       "      <td>False</td>\n",
       "    </tr>\n",
       "    <tr>\n",
       "      <th>1905</th>\n",
       "      <td>False</td>\n",
       "      <td>False</td>\n",
       "      <td>False</td>\n",
       "      <td>False</td>\n",
       "    </tr>\n",
       "    <tr>\n",
       "      <th>1906</th>\n",
       "      <td>False</td>\n",
       "      <td>False</td>\n",
       "      <td>False</td>\n",
       "      <td>False</td>\n",
       "    </tr>\n",
       "    <tr>\n",
       "      <th>1907</th>\n",
       "      <td>False</td>\n",
       "      <td>False</td>\n",
       "      <td>False</td>\n",
       "      <td>False</td>\n",
       "    </tr>\n",
       "    <tr>\n",
       "      <th>1908</th>\n",
       "      <td>False</td>\n",
       "      <td>False</td>\n",
       "      <td>False</td>\n",
       "      <td>False</td>\n",
       "    </tr>\n",
       "  </tbody>\n",
       "</table>\n",
       "<p>1909 rows × 4 columns</p>\n",
       "</div>"
      ],
      "text/plain": [
       "       flag  date_departed   name  captain\n",
       "0     False          False  False    False\n",
       "1     False          False  False    False\n",
       "2     False          False  False    False\n",
       "3     False          False  False    False\n",
       "4     False          False  False    False\n",
       "...     ...            ...    ...      ...\n",
       "1904  False          False  False    False\n",
       "1905  False          False  False    False\n",
       "1906  False          False  False    False\n",
       "1907  False          False  False    False\n",
       "1908  False          False  False    False\n",
       "\n",
       "[1909 rows x 4 columns]"
      ]
     },
     "execution_count": 11,
     "metadata": {},
     "output_type": "execute_result"
    }
   ],
   "source": [
    "tt.isna()"
   ]
  },
  {
   "cell_type": "code",
   "execution_count": null,
   "id": "0693995e-5bf4-420e-81ef-fe3ef068153a",
   "metadata": {},
   "outputs": [],
   "source": []
  },
  {
   "cell_type": "code",
   "execution_count": 12,
   "id": "c1b50ffd-7f3a-4dbe-98c4-0312441f1eac",
   "metadata": {},
   "outputs": [
    {
     "data": {
      "text/html": [
       "<div>\n",
       "<style scoped>\n",
       "    .dataframe tbody tr th:only-of-type {\n",
       "        vertical-align: middle;\n",
       "    }\n",
       "\n",
       "    .dataframe tbody tr th {\n",
       "        vertical-align: top;\n",
       "    }\n",
       "\n",
       "    .dataframe thead th {\n",
       "        text-align: right;\n",
       "    }\n",
       "</style>\n",
       "<table border=\"1\" class=\"dataframe\">\n",
       "  <thead>\n",
       "    <tr style=\"text-align: right;\">\n",
       "      <th></th>\n",
       "      <th>flag</th>\n",
       "      <th>date_departed</th>\n",
       "      <th>name</th>\n",
       "      <th>captain</th>\n",
       "    </tr>\n",
       "  </thead>\n",
       "  <tbody>\n",
       "    <tr>\n",
       "      <th>3</th>\n",
       "      <td>Netherlands</td>\n",
       "      <td></td>\n",
       "      <td>Wapen van Amsterdam</td>\n",
       "      <td></td>\n",
       "    </tr>\n",
       "    <tr>\n",
       "      <th>4</th>\n",
       "      <td>Netherlands</td>\n",
       "      <td></td>\n",
       "      <td>Wapen van Amsterdam</td>\n",
       "      <td>Scheij, Pieter</td>\n",
       "    </tr>\n",
       "    <tr>\n",
       "      <th>937</th>\n",
       "      <td>Netherlands</td>\n",
       "      <td>1663-04-28T00:00:00Z</td>\n",
       "      <td>Wapen van Amsterdam</td>\n",
       "      <td>Nuchteren, Jan Gerritsen</td>\n",
       "    </tr>\n",
       "    <tr>\n",
       "      <th>938</th>\n",
       "      <td>Netherlands</td>\n",
       "      <td>1663-04-28T00:00:00Z</td>\n",
       "      <td>Wapen van Amsterdam</td>\n",
       "      <td>Ridder, Paulus Heijn</td>\n",
       "    </tr>\n",
       "  </tbody>\n",
       "</table>\n",
       "</div>"
      ],
      "text/plain": [
       "            flag         date_departed                 name  \\\n",
       "3    Netherlands                        Wapen van Amsterdam   \n",
       "4    Netherlands                        Wapen van Amsterdam   \n",
       "937  Netherlands  1663-04-28T00:00:00Z  Wapen van Amsterdam   \n",
       "938  Netherlands  1663-04-28T00:00:00Z  Wapen van Amsterdam   \n",
       "\n",
       "                      captain  \n",
       "3                              \n",
       "4              Scheij, Pieter  \n",
       "937  Nuchteren, Jan Gerritsen  \n",
       "938      Ridder, Paulus Heijn  "
      ]
     },
     "execution_count": 12,
     "metadata": {},
     "output_type": "execute_result"
    }
   ],
   "source": [
    "tt[tt[\"name\"].str.contains('Wapen van Amsterdam')]"
   ]
  },
  {
   "cell_type": "code",
   "execution_count": 13,
   "id": "a560b21a-da1f-4ae5-9247-803c0320d046",
   "metadata": {},
   "outputs": [
    {
     "data": {
      "text/plain": [
       "'HoevenJanvander'"
      ]
     },
     "execution_count": 13,
     "metadata": {},
     "output_type": "execute_result"
    }
   ],
   "source": [
    "'Hoeven, Jan van der'.replace(',', '').replace(' ', '')"
   ]
  },
  {
   "cell_type": "code",
   "execution_count": 14,
   "id": "ed428bef-f15f-4425-8cc3-b1969133041c",
   "metadata": {},
   "outputs": [],
   "source": [
    "tt[\"captain_name_concat\"] = tt[\"captain\"].apply(lambda x : str(x).replace(',', '').replace(' ', ''))"
   ]
  },
  {
   "cell_type": "code",
   "execution_count": 15,
   "id": "3138e039-51fc-484c-ba3d-0493e1cdcec6",
   "metadata": {},
   "outputs": [
    {
     "data": {
      "text/html": [
       "<div>\n",
       "<style scoped>\n",
       "    .dataframe tbody tr th:only-of-type {\n",
       "        vertical-align: middle;\n",
       "    }\n",
       "\n",
       "    .dataframe tbody tr th {\n",
       "        vertical-align: top;\n",
       "    }\n",
       "\n",
       "    .dataframe thead th {\n",
       "        text-align: right;\n",
       "    }\n",
       "</style>\n",
       "<table border=\"1\" class=\"dataframe\">\n",
       "  <thead>\n",
       "    <tr style=\"text-align: right;\">\n",
       "      <th></th>\n",
       "      <th>flag</th>\n",
       "      <th>date_departed</th>\n",
       "      <th>name</th>\n",
       "      <th>captain</th>\n",
       "      <th>captain_name_concat</th>\n",
       "    </tr>\n",
       "  </thead>\n",
       "  <tbody>\n",
       "    <tr>\n",
       "      <th>0</th>\n",
       "      <td>Netherlands</td>\n",
       "      <td>1732-09-03T00:00:00Z</td>\n",
       "      <td>Waartwijk</td>\n",
       "      <td>Velde, Daniel ter</td>\n",
       "      <td>VeldeDanielter</td>\n",
       "    </tr>\n",
       "    <tr>\n",
       "      <th>1</th>\n",
       "      <td>Netherlands</td>\n",
       "      <td>1706-09-09T00:00:00Z</td>\n",
       "      <td>Wakende Kraan</td>\n",
       "      <td>Hoeven, Jan van der</td>\n",
       "      <td>HoevenJanvander</td>\n",
       "    </tr>\n",
       "    <tr>\n",
       "      <th>2</th>\n",
       "      <td>Netherlands</td>\n",
       "      <td>1706-09-09T00:00:00Z</td>\n",
       "      <td>Wakende Kraan</td>\n",
       "      <td>Wenman, Roelof</td>\n",
       "      <td>WenmanRoelof</td>\n",
       "    </tr>\n",
       "    <tr>\n",
       "      <th>3</th>\n",
       "      <td>Netherlands</td>\n",
       "      <td></td>\n",
       "      <td>Wapen van Amsterdam</td>\n",
       "      <td></td>\n",
       "      <td></td>\n",
       "    </tr>\n",
       "    <tr>\n",
       "      <th>4</th>\n",
       "      <td>Netherlands</td>\n",
       "      <td></td>\n",
       "      <td>Wapen van Amsterdam</td>\n",
       "      <td>Scheij, Pieter</td>\n",
       "      <td>ScheijPieter</td>\n",
       "    </tr>\n",
       "  </tbody>\n",
       "</table>\n",
       "</div>"
      ],
      "text/plain": [
       "          flag         date_departed                 name  \\\n",
       "0  Netherlands  1732-09-03T00:00:00Z            Waartwijk   \n",
       "1  Netherlands  1706-09-09T00:00:00Z        Wakende Kraan   \n",
       "2  Netherlands  1706-09-09T00:00:00Z        Wakende Kraan   \n",
       "3  Netherlands                        Wapen van Amsterdam   \n",
       "4  Netherlands                        Wapen van Amsterdam   \n",
       "\n",
       "               captain captain_name_concat  \n",
       "0    Velde, Daniel ter      VeldeDanielter  \n",
       "1  Hoeven, Jan van der     HoevenJanvander  \n",
       "2       Wenman, Roelof        WenmanRoelof  \n",
       "3                                           \n",
       "4       Scheij, Pieter        ScheijPieter  "
      ]
     },
     "execution_count": 15,
     "metadata": {},
     "output_type": "execute_result"
    }
   ],
   "source": [
    "tt.head()"
   ]
  },
  {
   "cell_type": "code",
   "execution_count": 22,
   "id": "ba1d7727-e81d-4b30-852b-9f1d8ebbd1c3",
   "metadata": {},
   "outputs": [
    {
     "data": {
      "text/plain": [
       "1909"
      ]
     },
     "execution_count": 22,
     "metadata": {},
     "output_type": "execute_result"
    }
   ],
   "source": [
    "len(tt)"
   ]
  },
  {
   "cell_type": "code",
   "execution_count": 24,
   "id": "cbc53b61-c40d-4759-b885-f9529d7c497e",
   "metadata": {},
   "outputs": [
    {
     "data": {
      "text/plain": [
       "1909"
      ]
     },
     "execution_count": 24,
     "metadata": {},
     "output_type": "execute_result"
    }
   ],
   "source": [
    "left = tt['captain_name_concat']\n",
    "len(left)"
   ]
  },
  {
   "cell_type": "code",
   "execution_count": 17,
   "id": "8943b1e8-24db-4825-8ee0-f139f50eab5e",
   "metadata": {},
   "outputs": [],
   "source": [
    "### Connection à la base de données SQLite\n",
    "# Si elle n'existe pas elle est créée à la connection\n",
    "db_address = '/home/francesco/shared_files/python_notebooks/SD_for_HSS/Cycle-Data/data/maritime_history.db'\n",
    "cnn = sql.connect(db_address)"
   ]
  },
  {
   "cell_type": "code",
   "execution_count": 41,
   "id": "5e826570-c719-4748-aec3-b0a58cc2f0d6",
   "metadata": {},
   "outputs": [],
   "source": [
    "q = \"\"\"with tw1 as (\n",
    "SELECT (REPLACE(voyMasterLastName, '.', '') || REPLACE(voyMasterFirstName, '.', '')) name_rec , dv.voyDepartureEDTF, dv.voyArrivalDateEDTF \n",
    "FROM das_master dm, das_voyage dv \n",
    "WHERE dv.voyMasterID = dm.voyMasterID\n",
    "ORDER BY dv.voyDepartureEDTF, dv.voyArrivalDateEDTF )\n",
    "SELECT count(*) as eff, name_rec, (group_concat(SUBSTRING(voyDepartureEDTF, 1,4)  )) liste_dates\n",
    "FROM tw1\n",
    "WHERE name_rec IS NOT NULL\n",
    "group by name_rec\n",
    "order by eff DESC;\n",
    "\"\"\"\n"
   ]
  },
  {
   "cell_type": "code",
   "execution_count": 42,
   "id": "71935501-fa00-4e3a-aa8f-692c689457e6",
   "metadata": {},
   "outputs": [
    {
     "data": {
      "text/html": [
       "<div>\n",
       "<style scoped>\n",
       "    .dataframe tbody tr th:only-of-type {\n",
       "        vertical-align: middle;\n",
       "    }\n",
       "\n",
       "    .dataframe tbody tr th {\n",
       "        vertical-align: top;\n",
       "    }\n",
       "\n",
       "    .dataframe thead th {\n",
       "        text-align: right;\n",
       "    }\n",
       "</style>\n",
       "<table border=\"1\" class=\"dataframe\">\n",
       "  <thead>\n",
       "    <tr style=\"text-align: right;\">\n",
       "      <th></th>\n",
       "      <th>eff</th>\n",
       "      <th>name_rec</th>\n",
       "      <th>liste_dates</th>\n",
       "    </tr>\n",
       "  </thead>\n",
       "  <tbody>\n",
       "    <tr>\n",
       "      <th>0</th>\n",
       "      <td>17</td>\n",
       "      <td>VisserPieter</td>\n",
       "      <td>1719,1721,1724,1725,1733,1734,1736,1736,1738,1...</td>\n",
       "    </tr>\n",
       "    <tr>\n",
       "      <th>1</th>\n",
       "      <td>16</td>\n",
       "      <td>VriesJakob</td>\n",
       "      <td>1715,1717,1725,1725,1727,1728,1757,1759,1762,1...</td>\n",
       "    </tr>\n",
       "    <tr>\n",
       "      <th>2</th>\n",
       "      <td>16</td>\n",
       "      <td>PietersenKornelis</td>\n",
       "      <td>1762,1763,1763,1764,1765,1765,1766,1766,1767,1...</td>\n",
       "    </tr>\n",
       "    <tr>\n",
       "      <th>3</th>\n",
       "      <td>14</td>\n",
       "      <td>WiebeJakob</td>\n",
       "      <td>1746,1748,1749,1749,1750,1752,1754,1755,1759,1...</td>\n",
       "    </tr>\n",
       "    <tr>\n",
       "      <th>4</th>\n",
       "      <td>13</td>\n",
       "      <td>WitJan</td>\n",
       "      <td>1614,1690,1693,1695,1696,1699,1708,1709,1740,1...</td>\n",
       "    </tr>\n",
       "  </tbody>\n",
       "</table>\n",
       "</div>"
      ],
      "text/plain": [
       "   eff           name_rec                                        liste_dates\n",
       "0   17       VisserPieter  1719,1721,1724,1725,1733,1734,1736,1736,1738,1...\n",
       "1   16         VriesJakob  1715,1717,1725,1725,1727,1728,1757,1759,1762,1...\n",
       "2   16  PietersenKornelis  1762,1763,1763,1764,1765,1765,1766,1766,1767,1...\n",
       "3   14         WiebeJakob  1746,1748,1749,1749,1750,1752,1754,1755,1759,1...\n",
       "4   13             WitJan  1614,1690,1693,1695,1696,1699,1708,1709,1740,1..."
      ]
     },
     "execution_count": 42,
     "metadata": {},
     "output_type": "execute_result"
    }
   ],
   "source": [
    "lignes_table = pd.read_sql_query(q, cnn)\n",
    "lignes_table.head()"
   ]
  },
  {
   "cell_type": "code",
   "execution_count": 43,
   "id": "98695b8a-2340-46ed-9d30-04b270001c0d",
   "metadata": {},
   "outputs": [
    {
     "data": {
      "text/plain": [
       "(0         VisserPieter\n",
       " 1           VriesJakob\n",
       " 2    PietersenKornelis\n",
       " Name: name_rec, dtype: object,\n",
       " 2972)"
      ]
     },
     "execution_count": 43,
     "metadata": {},
     "output_type": "execute_result"
    }
   ],
   "source": [
    "right = lignes_table[\"name_rec\"]\n",
    "right[:3], len(right)"
   ]
  },
  {
   "cell_type": "code",
   "execution_count": 47,
   "id": "0df46830-a1ea-444f-bf88-010a8489a9be",
   "metadata": {},
   "outputs": [
    {
     "data": {
      "text/plain": [
       "(193,\n",
       "      left_index left_captain_name_concat  similarity     right_name_rec  \\\n",
       " 0          1402          VerdoesBastiaan    1.000000    VerdoesBastiaan   \n",
       " 1           703          AntheunissenJan    0.717786        HaanTheunis   \n",
       " 2           702          AntheunissenJan    0.717786        HaanTheunis   \n",
       " 3            37        HageropChristiaan    1.000000  HageropChristiaan   \n",
       " 4            36        HageropChristiaan    1.000000  HageropChristiaan   \n",
       " ..          ...                      ...         ...                ...   \n",
       " 188         292         BaaneJanCornelis    0.747947  BaaneJan Kornelis   \n",
       " 189         291         BaaneJanCornelis    0.747947  BaaneJan Kornelis   \n",
       " 190         290         BaaneJanCornelis    0.747947  BaaneJan Kornelis   \n",
       " 191        1116            JanszLeendert    0.852089  AdriaanszLeendert   \n",
       " 192         856             JanszAbraham    0.855898   AdriaanszAbraham   \n",
       " \n",
       "      right_index  \n",
       " 0             20  \n",
       " 1             42  \n",
       " 2             42  \n",
       " 3             74  \n",
       " 4             74  \n",
       " ..           ...  \n",
       " 188         2908  \n",
       " 189         2908  \n",
       " 190         2908  \n",
       " 191         2958  \n",
       " 192         2961  \n",
       " \n",
       " [193 rows x 5 columns])"
      ]
     },
     "execution_count": 47,
     "metadata": {},
     "output_type": "execute_result"
    }
   ],
   "source": [
    "matched = match_strings(left,right, min_similarity = 0.7)\n",
    "len(matched), matched"
   ]
  },
  {
   "cell_type": "code",
   "execution_count": 45,
   "id": "92d33038-b97d-476b-8d4c-37644d893b3d",
   "metadata": {},
   "outputs": [
    {
     "data": {
      "application/vnd.plotly.v1+json": {
       "config": {
        "plotlyServerURL": "https://plot.ly"
       },
       "data": [
        {
         "hovertemplate": "x=%{x}<br>similarity=%{y}<extra></extra>",
         "legendgroup": "",
         "line": {
          "color": "#636efa",
          "dash": "solid"
         },
         "marker": {
          "symbol": "circle"
         },
         "mode": "lines",
         "name": "",
         "orientation": "v",
         "showlegend": false,
         "type": "scatter",
         "x": [
          0,
          1,
          2,
          3,
          4,
          5,
          6,
          7,
          8,
          9,
          10,
          11,
          12,
          13,
          14,
          15,
          16,
          17,
          18,
          19,
          20,
          21,
          22,
          23,
          24,
          25,
          26,
          27,
          28,
          29,
          30,
          31,
          32,
          33,
          34,
          35,
          36,
          37,
          38,
          39,
          40,
          41,
          42,
          43,
          44,
          45,
          46,
          47,
          48,
          49,
          50,
          51,
          52,
          53,
          54,
          55,
          56,
          57,
          58,
          59,
          60,
          61,
          62,
          63,
          64,
          65,
          66,
          67,
          68,
          69,
          70,
          71,
          72,
          73,
          74,
          75,
          76,
          77,
          78,
          79,
          80,
          81,
          82,
          83,
          84,
          85,
          86,
          87,
          88,
          89,
          90,
          91,
          92,
          93,
          94,
          95,
          96,
          97,
          98,
          99,
          100,
          101,
          102,
          103,
          104,
          105,
          106,
          107,
          108,
          109,
          110,
          111,
          112,
          113,
          114,
          115,
          116,
          117,
          118,
          119,
          120,
          121,
          122,
          123,
          124,
          125,
          126,
          127,
          128,
          129,
          130,
          131,
          132,
          133,
          134,
          135,
          136,
          137,
          138,
          139,
          140,
          141,
          142,
          143,
          144,
          145,
          146,
          147,
          148,
          149,
          150,
          151,
          152,
          153,
          154,
          155,
          156,
          157,
          158,
          159,
          160,
          161,
          162,
          163,
          164,
          165,
          166,
          167,
          168,
          169,
          170,
          171,
          172,
          173,
          174,
          175,
          176,
          177,
          178,
          179,
          180,
          181,
          182,
          183,
          184,
          185,
          186,
          187,
          188,
          189,
          190,
          191,
          192
         ],
         "xaxis": "x",
         "y": [
          0.7019600868225098,
          0.7026685476303101,
          0.7026685476303101,
          0.7036103010177612,
          0.7041059732437134,
          0.7083545923233032,
          0.7095640301704407,
          0.7095640301704407,
          0.7095640301704407,
          0.7115513682365417,
          0.7115513682365417,
          0.7119961977005005,
          0.7135410308837891,
          0.7151444554328918,
          0.7163223028182983,
          0.7177863717079163,
          0.7177863717079163,
          0.7181999683380127,
          0.7186360955238342,
          0.7186872363090515,
          0.7196552753448486,
          0.7208517789840698,
          0.7208517789840698,
          0.7208517789840698,
          0.726102352142334,
          0.7262967824935913,
          0.7262967824935913,
          0.7262967824935913,
          0.7268288135528564,
          0.7277770042419434,
          0.7300886511802673,
          0.7300886511802673,
          0.7303187847137451,
          0.7325326800346375,
          0.7325326800346375,
          0.7325326800346375,
          0.7325326800346375,
          0.7325326800346375,
          0.7325326800346375,
          0.7338232398033142,
          0.7355626225471497,
          0.7373964786529541,
          0.7373964786529541,
          0.7373964786529541,
          0.7375636100769043,
          0.7375636100769043,
          0.7375636100769043,
          0.7375636100769043,
          0.7394790053367615,
          0.7394790053367615,
          0.744465172290802,
          0.744465172290802,
          0.744465172290802,
          0.7447590827941895,
          0.7447590827941895,
          0.7447590827941895,
          0.7447590827941895,
          0.7447590827941895,
          0.7464187145233154,
          0.7464187145233154,
          0.747947096824646,
          0.747947096824646,
          0.747947096824646,
          0.747947096824646,
          0.7487537860870361,
          0.7529683113098145,
          0.755783200263977,
          0.7578113079071045,
          0.7578113079071045,
          0.7628966569900513,
          0.7633028030395508,
          0.7637000679969788,
          0.7639371156692505,
          0.7639371156692505,
          0.7646541595458984,
          0.7646541595458984,
          0.7646541595458984,
          0.7646541595458984,
          0.7659466862678528,
          0.7664318084716797,
          0.7664318084716797,
          0.7671980857849121,
          0.7671980857849121,
          0.7686464786529541,
          0.7706156373023987,
          0.7706156373023987,
          0.7706156373023987,
          0.7713539004325867,
          0.7735300660133362,
          0.7735300660133362,
          0.7820460796356201,
          0.7867932319641113,
          0.787209153175354,
          0.7896170020103455,
          0.7905611991882324,
          0.7931213974952698,
          0.7931213974952698,
          0.7931213974952698,
          0.79605633020401,
          0.8075390458106995,
          0.8075390458106995,
          0.8075390458106995,
          0.813465416431427,
          0.813465416431427,
          0.8144991397857666,
          0.8200399875640869,
          0.8200399875640869,
          0.8237224817276001,
          0.8254110813140869,
          0.8352256417274475,
          0.8392858505249023,
          0.8420560359954834,
          0.8420560359954834,
          0.8451038002967834,
          0.8451038002967834,
          0.8451038002967834,
          0.8451038002967834,
          0.8451038002967834,
          0.8451038002967834,
          0.845221996307373,
          0.8520894050598145,
          0.8558984398841858,
          0.8568933010101318,
          0.8568933010101318,
          0.868606448173523,
          0.8694905042648315,
          0.8706294894218445,
          0.8710501194000244,
          0.8710501194000244,
          0.8710501194000244,
          0.873680830001831,
          0.8801419138908386,
          0.8801419138908386,
          0.8801419138908386,
          0.8801419138908386,
          0.8801419138908386,
          0.8817689418792725,
          0.8817689418792725,
          0.8817689418792725,
          0.8825421333312988,
          0.888715386390686,
          0.888715386390686,
          0.888715386390686,
          0.8975634574890137,
          0.8975634574890137,
          0.8975634574890137,
          0.8975634574890137,
          0.8975634574890137,
          0.8998416662216187,
          0.9043949246406555,
          0.9043949246406555,
          0.9059089422225952,
          0.9059089422225952,
          0.9059089422225952,
          0.9059089422225952,
          0.9059089422225952,
          0.9485290050506592,
          0.9999999403953552,
          0.9999999403953552,
          0.9999999403953552,
          0.9999999403953552,
          0.9999999403953552,
          0.9999999403953552,
          1,
          1,
          1,
          1,
          1,
          1,
          1,
          1,
          1,
          1,
          1,
          1,
          1,
          1,
          1,
          1,
          1,
          1,
          1,
          1,
          1,
          1,
          1,
          1,
          1,
          1,
          1,
          1,
          1.0000001192092896,
          1.0000001192092896
         ],
         "yaxis": "y"
        }
       ],
       "layout": {
        "autosize": true,
        "legend": {
         "tracegroupgap": 0
        },
        "margin": {
         "t": 60
        },
        "template": {
         "data": {
          "bar": [
           {
            "error_x": {
             "color": "#2a3f5f"
            },
            "error_y": {
             "color": "#2a3f5f"
            },
            "marker": {
             "line": {
              "color": "#E5ECF6",
              "width": 0.5
             },
             "pattern": {
              "fillmode": "overlay",
              "size": 10,
              "solidity": 0.2
             }
            },
            "type": "bar"
           }
          ],
          "barpolar": [
           {
            "marker": {
             "line": {
              "color": "#E5ECF6",
              "width": 0.5
             },
             "pattern": {
              "fillmode": "overlay",
              "size": 10,
              "solidity": 0.2
             }
            },
            "type": "barpolar"
           }
          ],
          "carpet": [
           {
            "aaxis": {
             "endlinecolor": "#2a3f5f",
             "gridcolor": "white",
             "linecolor": "white",
             "minorgridcolor": "white",
             "startlinecolor": "#2a3f5f"
            },
            "baxis": {
             "endlinecolor": "#2a3f5f",
             "gridcolor": "white",
             "linecolor": "white",
             "minorgridcolor": "white",
             "startlinecolor": "#2a3f5f"
            },
            "type": "carpet"
           }
          ],
          "choropleth": [
           {
            "colorbar": {
             "outlinewidth": 0,
             "ticks": ""
            },
            "type": "choropleth"
           }
          ],
          "contour": [
           {
            "colorbar": {
             "outlinewidth": 0,
             "ticks": ""
            },
            "colorscale": [
             [
              0,
              "#0d0887"
             ],
             [
              0.1111111111111111,
              "#46039f"
             ],
             [
              0.2222222222222222,
              "#7201a8"
             ],
             [
              0.3333333333333333,
              "#9c179e"
             ],
             [
              0.4444444444444444,
              "#bd3786"
             ],
             [
              0.5555555555555556,
              "#d8576b"
             ],
             [
              0.6666666666666666,
              "#ed7953"
             ],
             [
              0.7777777777777778,
              "#fb9f3a"
             ],
             [
              0.8888888888888888,
              "#fdca26"
             ],
             [
              1,
              "#f0f921"
             ]
            ],
            "type": "contour"
           }
          ],
          "contourcarpet": [
           {
            "colorbar": {
             "outlinewidth": 0,
             "ticks": ""
            },
            "type": "contourcarpet"
           }
          ],
          "heatmap": [
           {
            "colorbar": {
             "outlinewidth": 0,
             "ticks": ""
            },
            "colorscale": [
             [
              0,
              "#0d0887"
             ],
             [
              0.1111111111111111,
              "#46039f"
             ],
             [
              0.2222222222222222,
              "#7201a8"
             ],
             [
              0.3333333333333333,
              "#9c179e"
             ],
             [
              0.4444444444444444,
              "#bd3786"
             ],
             [
              0.5555555555555556,
              "#d8576b"
             ],
             [
              0.6666666666666666,
              "#ed7953"
             ],
             [
              0.7777777777777778,
              "#fb9f3a"
             ],
             [
              0.8888888888888888,
              "#fdca26"
             ],
             [
              1,
              "#f0f921"
             ]
            ],
            "type": "heatmap"
           }
          ],
          "heatmapgl": [
           {
            "colorbar": {
             "outlinewidth": 0,
             "ticks": ""
            },
            "colorscale": [
             [
              0,
              "#0d0887"
             ],
             [
              0.1111111111111111,
              "#46039f"
             ],
             [
              0.2222222222222222,
              "#7201a8"
             ],
             [
              0.3333333333333333,
              "#9c179e"
             ],
             [
              0.4444444444444444,
              "#bd3786"
             ],
             [
              0.5555555555555556,
              "#d8576b"
             ],
             [
              0.6666666666666666,
              "#ed7953"
             ],
             [
              0.7777777777777778,
              "#fb9f3a"
             ],
             [
              0.8888888888888888,
              "#fdca26"
             ],
             [
              1,
              "#f0f921"
             ]
            ],
            "type": "heatmapgl"
           }
          ],
          "histogram": [
           {
            "marker": {
             "pattern": {
              "fillmode": "overlay",
              "size": 10,
              "solidity": 0.2
             }
            },
            "type": "histogram"
           }
          ],
          "histogram2d": [
           {
            "colorbar": {
             "outlinewidth": 0,
             "ticks": ""
            },
            "colorscale": [
             [
              0,
              "#0d0887"
             ],
             [
              0.1111111111111111,
              "#46039f"
             ],
             [
              0.2222222222222222,
              "#7201a8"
             ],
             [
              0.3333333333333333,
              "#9c179e"
             ],
             [
              0.4444444444444444,
              "#bd3786"
             ],
             [
              0.5555555555555556,
              "#d8576b"
             ],
             [
              0.6666666666666666,
              "#ed7953"
             ],
             [
              0.7777777777777778,
              "#fb9f3a"
             ],
             [
              0.8888888888888888,
              "#fdca26"
             ],
             [
              1,
              "#f0f921"
             ]
            ],
            "type": "histogram2d"
           }
          ],
          "histogram2dcontour": [
           {
            "colorbar": {
             "outlinewidth": 0,
             "ticks": ""
            },
            "colorscale": [
             [
              0,
              "#0d0887"
             ],
             [
              0.1111111111111111,
              "#46039f"
             ],
             [
              0.2222222222222222,
              "#7201a8"
             ],
             [
              0.3333333333333333,
              "#9c179e"
             ],
             [
              0.4444444444444444,
              "#bd3786"
             ],
             [
              0.5555555555555556,
              "#d8576b"
             ],
             [
              0.6666666666666666,
              "#ed7953"
             ],
             [
              0.7777777777777778,
              "#fb9f3a"
             ],
             [
              0.8888888888888888,
              "#fdca26"
             ],
             [
              1,
              "#f0f921"
             ]
            ],
            "type": "histogram2dcontour"
           }
          ],
          "mesh3d": [
           {
            "colorbar": {
             "outlinewidth": 0,
             "ticks": ""
            },
            "type": "mesh3d"
           }
          ],
          "parcoords": [
           {
            "line": {
             "colorbar": {
              "outlinewidth": 0,
              "ticks": ""
             }
            },
            "type": "parcoords"
           }
          ],
          "pie": [
           {
            "automargin": true,
            "type": "pie"
           }
          ],
          "scatter": [
           {
            "fillpattern": {
             "fillmode": "overlay",
             "size": 10,
             "solidity": 0.2
            },
            "type": "scatter"
           }
          ],
          "scatter3d": [
           {
            "line": {
             "colorbar": {
              "outlinewidth": 0,
              "ticks": ""
             }
            },
            "marker": {
             "colorbar": {
              "outlinewidth": 0,
              "ticks": ""
             }
            },
            "type": "scatter3d"
           }
          ],
          "scattercarpet": [
           {
            "marker": {
             "colorbar": {
              "outlinewidth": 0,
              "ticks": ""
             }
            },
            "type": "scattercarpet"
           }
          ],
          "scattergeo": [
           {
            "marker": {
             "colorbar": {
              "outlinewidth": 0,
              "ticks": ""
             }
            },
            "type": "scattergeo"
           }
          ],
          "scattergl": [
           {
            "marker": {
             "colorbar": {
              "outlinewidth": 0,
              "ticks": ""
             }
            },
            "type": "scattergl"
           }
          ],
          "scattermapbox": [
           {
            "marker": {
             "colorbar": {
              "outlinewidth": 0,
              "ticks": ""
             }
            },
            "type": "scattermapbox"
           }
          ],
          "scatterpolar": [
           {
            "marker": {
             "colorbar": {
              "outlinewidth": 0,
              "ticks": ""
             }
            },
            "type": "scatterpolar"
           }
          ],
          "scatterpolargl": [
           {
            "marker": {
             "colorbar": {
              "outlinewidth": 0,
              "ticks": ""
             }
            },
            "type": "scatterpolargl"
           }
          ],
          "scatterternary": [
           {
            "marker": {
             "colorbar": {
              "outlinewidth": 0,
              "ticks": ""
             }
            },
            "type": "scatterternary"
           }
          ],
          "surface": [
           {
            "colorbar": {
             "outlinewidth": 0,
             "ticks": ""
            },
            "colorscale": [
             [
              0,
              "#0d0887"
             ],
             [
              0.1111111111111111,
              "#46039f"
             ],
             [
              0.2222222222222222,
              "#7201a8"
             ],
             [
              0.3333333333333333,
              "#9c179e"
             ],
             [
              0.4444444444444444,
              "#bd3786"
             ],
             [
              0.5555555555555556,
              "#d8576b"
             ],
             [
              0.6666666666666666,
              "#ed7953"
             ],
             [
              0.7777777777777778,
              "#fb9f3a"
             ],
             [
              0.8888888888888888,
              "#fdca26"
             ],
             [
              1,
              "#f0f921"
             ]
            ],
            "type": "surface"
           }
          ],
          "table": [
           {
            "cells": {
             "fill": {
              "color": "#EBF0F8"
             },
             "line": {
              "color": "white"
             }
            },
            "header": {
             "fill": {
              "color": "#C8D4E3"
             },
             "line": {
              "color": "white"
             }
            },
            "type": "table"
           }
          ]
         },
         "layout": {
          "annotationdefaults": {
           "arrowcolor": "#2a3f5f",
           "arrowhead": 0,
           "arrowwidth": 1
          },
          "autotypenumbers": "strict",
          "coloraxis": {
           "colorbar": {
            "outlinewidth": 0,
            "ticks": ""
           }
          },
          "colorscale": {
           "diverging": [
            [
             0,
             "#8e0152"
            ],
            [
             0.1,
             "#c51b7d"
            ],
            [
             0.2,
             "#de77ae"
            ],
            [
             0.3,
             "#f1b6da"
            ],
            [
             0.4,
             "#fde0ef"
            ],
            [
             0.5,
             "#f7f7f7"
            ],
            [
             0.6,
             "#e6f5d0"
            ],
            [
             0.7,
             "#b8e186"
            ],
            [
             0.8,
             "#7fbc41"
            ],
            [
             0.9,
             "#4d9221"
            ],
            [
             1,
             "#276419"
            ]
           ],
           "sequential": [
            [
             0,
             "#0d0887"
            ],
            [
             0.1111111111111111,
             "#46039f"
            ],
            [
             0.2222222222222222,
             "#7201a8"
            ],
            [
             0.3333333333333333,
             "#9c179e"
            ],
            [
             0.4444444444444444,
             "#bd3786"
            ],
            [
             0.5555555555555556,
             "#d8576b"
            ],
            [
             0.6666666666666666,
             "#ed7953"
            ],
            [
             0.7777777777777778,
             "#fb9f3a"
            ],
            [
             0.8888888888888888,
             "#fdca26"
            ],
            [
             1,
             "#f0f921"
            ]
           ],
           "sequentialminus": [
            [
             0,
             "#0d0887"
            ],
            [
             0.1111111111111111,
             "#46039f"
            ],
            [
             0.2222222222222222,
             "#7201a8"
            ],
            [
             0.3333333333333333,
             "#9c179e"
            ],
            [
             0.4444444444444444,
             "#bd3786"
            ],
            [
             0.5555555555555556,
             "#d8576b"
            ],
            [
             0.6666666666666666,
             "#ed7953"
            ],
            [
             0.7777777777777778,
             "#fb9f3a"
            ],
            [
             0.8888888888888888,
             "#fdca26"
            ],
            [
             1,
             "#f0f921"
            ]
           ]
          },
          "colorway": [
           "#636efa",
           "#EF553B",
           "#00cc96",
           "#ab63fa",
           "#FFA15A",
           "#19d3f3",
           "#FF6692",
           "#B6E880",
           "#FF97FF",
           "#FECB52"
          ],
          "font": {
           "color": "#2a3f5f"
          },
          "geo": {
           "bgcolor": "white",
           "lakecolor": "white",
           "landcolor": "#E5ECF6",
           "showlakes": true,
           "showland": true,
           "subunitcolor": "white"
          },
          "hoverlabel": {
           "align": "left"
          },
          "hovermode": "closest",
          "mapbox": {
           "style": "light"
          },
          "paper_bgcolor": "white",
          "plot_bgcolor": "#E5ECF6",
          "polar": {
           "angularaxis": {
            "gridcolor": "white",
            "linecolor": "white",
            "ticks": ""
           },
           "bgcolor": "#E5ECF6",
           "radialaxis": {
            "gridcolor": "white",
            "linecolor": "white",
            "ticks": ""
           }
          },
          "scene": {
           "xaxis": {
            "backgroundcolor": "#E5ECF6",
            "gridcolor": "white",
            "gridwidth": 2,
            "linecolor": "white",
            "showbackground": true,
            "ticks": "",
            "zerolinecolor": "white"
           },
           "yaxis": {
            "backgroundcolor": "#E5ECF6",
            "gridcolor": "white",
            "gridwidth": 2,
            "linecolor": "white",
            "showbackground": true,
            "ticks": "",
            "zerolinecolor": "white"
           },
           "zaxis": {
            "backgroundcolor": "#E5ECF6",
            "gridcolor": "white",
            "gridwidth": 2,
            "linecolor": "white",
            "showbackground": true,
            "ticks": "",
            "zerolinecolor": "white"
           }
          },
          "shapedefaults": {
           "line": {
            "color": "#2a3f5f"
           }
          },
          "ternary": {
           "aaxis": {
            "gridcolor": "white",
            "linecolor": "white",
            "ticks": ""
           },
           "baxis": {
            "gridcolor": "white",
            "linecolor": "white",
            "ticks": ""
           },
           "bgcolor": "#E5ECF6",
           "caxis": {
            "gridcolor": "white",
            "linecolor": "white",
            "ticks": ""
           }
          },
          "title": {
           "x": 0.05
          },
          "xaxis": {
           "automargin": true,
           "gridcolor": "white",
           "linecolor": "white",
           "ticks": "",
           "title": {
            "standoff": 15
           },
           "zerolinecolor": "white",
           "zerolinewidth": 2
          },
          "yaxis": {
           "automargin": true,
           "gridcolor": "white",
           "linecolor": "white",
           "ticks": "",
           "title": {
            "standoff": 15
           },
           "zerolinecolor": "white",
           "zerolinewidth": 2
          }
         }
        },
        "xaxis": {
         "anchor": "y",
         "autorange": true,
         "domain": [
          0,
          1
         ],
         "range": [
          0,
          192
         ],
         "title": {
          "text": "x"
         },
         "type": "linear"
        },
        "yaxis": {
         "anchor": "x",
         "autorange": true,
         "domain": [
          0,
          1
         ],
         "range": [
          0.6854023072454665,
          1.0165578987863328
         ],
         "title": {
          "text": "similarity"
         },
         "type": "linear"
        }
       }
      },
      "image/png": "[encoded data removed]"
     },
     "metadata": {},
     "output_type": "display_data"
    }
   ],
   "source": [
    "fig = px.line(matched.sort_values(\"similarity\"), x =matched.index, y ='similarity')\n",
    "fig.show()"
   ]
  },
  {
   "cell_type": "code",
   "execution_count": 46,
   "id": "18431eda-b45c-4322-aa85-c00c1e383c24",
   "metadata": {},
   "outputs": [
    {
     "data": {
      "text/html": [
       "<div>\n",
       "<style scoped>\n",
       "    .dataframe tbody tr th:only-of-type {\n",
       "        vertical-align: middle;\n",
       "    }\n",
       "\n",
       "    .dataframe tbody tr th {\n",
       "        vertical-align: top;\n",
       "    }\n",
       "\n",
       "    .dataframe thead th {\n",
       "        text-align: right;\n",
       "    }\n",
       "</style>\n",
       "<table border=\"1\" class=\"dataframe\">\n",
       "  <thead>\n",
       "    <tr style=\"text-align: right;\">\n",
       "      <th></th>\n",
       "      <th>left_index</th>\n",
       "      <th>left_captain_name_concat</th>\n",
       "      <th>similarity</th>\n",
       "      <th>right_name_rec</th>\n",
       "      <th>right_index</th>\n",
       "    </tr>\n",
       "  </thead>\n",
       "  <tbody>\n",
       "    <tr>\n",
       "      <th>46</th>\n",
       "      <td>1116</td>\n",
       "      <td>JanszLeendert</td>\n",
       "      <td>0.752968</td>\n",
       "      <td>JakobszLeendert</td>\n",
       "      <td>807</td>\n",
       "    </tr>\n",
       "    <tr>\n",
       "      <th>18</th>\n",
       "      <td>1358</td>\n",
       "      <td>BrestJan</td>\n",
       "      <td>0.755783</td>\n",
       "      <td>EstJan</td>\n",
       "      <td>344</td>\n",
       "    </tr>\n",
       "    <tr>\n",
       "      <th>147</th>\n",
       "      <td>1833</td>\n",
       "      <td>MichielszMichiel</td>\n",
       "      <td>0.757811</td>\n",
       "      <td>KorneliszMichiel</td>\n",
       "      <td>2200</td>\n",
       "    </tr>\n",
       "    <tr>\n",
       "      <th>148</th>\n",
       "      <td>1818</td>\n",
       "      <td>MichielszMichiel</td>\n",
       "      <td>0.757811</td>\n",
       "      <td>KorneliszMichiel</td>\n",
       "      <td>2200</td>\n",
       "    </tr>\n",
       "    <tr>\n",
       "      <th>69</th>\n",
       "      <td>852</td>\n",
       "      <td>WoutersBartolomeus</td>\n",
       "      <td>0.762897</td>\n",
       "      <td>NoutersBartholomeus</td>\n",
       "      <td>1137</td>\n",
       "    </tr>\n",
       "    <tr>\n",
       "      <th>30</th>\n",
       "      <td>927</td>\n",
       "      <td>HarmenszGovert</td>\n",
       "      <td>0.763303</td>\n",
       "      <td>JanszGovert</td>\n",
       "      <td>514</td>\n",
       "    </tr>\n",
       "    <tr>\n",
       "      <th>58</th>\n",
       "      <td>1654</td>\n",
       "      <td>JanszGijsbert</td>\n",
       "      <td>0.763700</td>\n",
       "      <td>WillemszGijsbert</td>\n",
       "      <td>946</td>\n",
       "    </tr>\n",
       "    <tr>\n",
       "      <th>143</th>\n",
       "      <td>1818</td>\n",
       "      <td>MichielszMichiel</td>\n",
       "      <td>0.763937</td>\n",
       "      <td>MichielszJan</td>\n",
       "      <td>2032</td>\n",
       "    </tr>\n",
       "    <tr>\n",
       "      <th>142</th>\n",
       "      <td>1833</td>\n",
       "      <td>MichielszMichiel</td>\n",
       "      <td>0.763937</td>\n",
       "      <td>MichielszJan</td>\n",
       "      <td>2032</td>\n",
       "    </tr>\n",
       "    <tr>\n",
       "      <th>101</th>\n",
       "      <td>786</td>\n",
       "      <td>WiltonJan</td>\n",
       "      <td>0.764654</td>\n",
       "      <td>WiltonJohn</td>\n",
       "      <td>1518</td>\n",
       "    </tr>\n",
       "    <tr>\n",
       "      <th>102</th>\n",
       "      <td>495</td>\n",
       "      <td>WiltonJan</td>\n",
       "      <td>0.764654</td>\n",
       "      <td>WiltonJohn</td>\n",
       "      <td>1518</td>\n",
       "    </tr>\n",
       "    <tr>\n",
       "      <th>103</th>\n",
       "      <td>494</td>\n",
       "      <td>WiltonJan</td>\n",
       "      <td>0.764654</td>\n",
       "      <td>WiltonJohn</td>\n",
       "      <td>1518</td>\n",
       "    </tr>\n",
       "    <tr>\n",
       "      <th>104</th>\n",
       "      <td>493</td>\n",
       "      <td>WiltonJan</td>\n",
       "      <td>0.764654</td>\n",
       "      <td>WiltonJohn</td>\n",
       "      <td>1518</td>\n",
       "    </tr>\n",
       "    <tr>\n",
       "      <th>41</th>\n",
       "      <td>1303</td>\n",
       "      <td>LodewijkszLodewijk</td>\n",
       "      <td>0.765947</td>\n",
       "      <td>ThomaszLodewijk</td>\n",
       "      <td>663</td>\n",
       "    </tr>\n",
       "    <tr>\n",
       "      <th>45</th>\n",
       "      <td>1205</td>\n",
       "      <td>BrasserMatthijsLaurensz</td>\n",
       "      <td>0.766432</td>\n",
       "      <td>KosterMatthijs Laurens</td>\n",
       "      <td>776</td>\n",
       "    </tr>\n",
       "    <tr>\n",
       "      <th>44</th>\n",
       "      <td>1432</td>\n",
       "      <td>BrasserMatthijsLaurensz</td>\n",
       "      <td>0.766432</td>\n",
       "      <td>KosterMatthijs Laurens</td>\n",
       "      <td>776</td>\n",
       "    </tr>\n",
       "    <tr>\n",
       "      <th>176</th>\n",
       "      <td>703</td>\n",
       "      <td>AntheunissenJan</td>\n",
       "      <td>0.767198</td>\n",
       "      <td>EissenTheunis</td>\n",
       "      <td>2638</td>\n",
       "    </tr>\n",
       "    <tr>\n",
       "      <th>177</th>\n",
       "      <td>702</td>\n",
       "      <td>AntheunissenJan</td>\n",
       "      <td>0.767198</td>\n",
       "      <td>EissenTheunis</td>\n",
       "      <td>2638</td>\n",
       "    </tr>\n",
       "    <tr>\n",
       "      <th>29</th>\n",
       "      <td>913</td>\n",
       "      <td>CorneliszGovert</td>\n",
       "      <td>0.768646</td>\n",
       "      <td>JanszGovert</td>\n",
       "      <td>514</td>\n",
       "    </tr>\n",
       "    <tr>\n",
       "      <th>128</th>\n",
       "      <td>1279</td>\n",
       "      <td>PortGerritvander</td>\n",
       "      <td>0.770616</td>\n",
       "      <td>PortGerrit</td>\n",
       "      <td>1913</td>\n",
       "    </tr>\n",
       "    <tr>\n",
       "      <th>127</th>\n",
       "      <td>1280</td>\n",
       "      <td>PortGerritvander</td>\n",
       "      <td>0.770616</td>\n",
       "      <td>PortGerrit</td>\n",
       "      <td>1913</td>\n",
       "    </tr>\n",
       "    <tr>\n",
       "      <th>126</th>\n",
       "      <td>1281</td>\n",
       "      <td>PortGerritvander</td>\n",
       "      <td>0.770616</td>\n",
       "      <td>PortGerrit</td>\n",
       "      <td>1913</td>\n",
       "    </tr>\n",
       "    <tr>\n",
       "      <th>146</th>\n",
       "      <td>1116</td>\n",
       "      <td>JanszLeendert</td>\n",
       "      <td>0.771354</td>\n",
       "      <td>LaurenszLeendert</td>\n",
       "      <td>2134</td>\n",
       "    </tr>\n",
       "    <tr>\n",
       "      <th>182</th>\n",
       "      <td>1432</td>\n",
       "      <td>BrasserMatthijsLaurensz</td>\n",
       "      <td>0.773530</td>\n",
       "      <td>BrasserMatthijs</td>\n",
       "      <td>2778</td>\n",
       "    </tr>\n",
       "    <tr>\n",
       "      <th>183</th>\n",
       "      <td>1205</td>\n",
       "      <td>BrasserMatthijsLaurensz</td>\n",
       "      <td>0.773530</td>\n",
       "      <td>BrasserMatthijs</td>\n",
       "      <td>2778</td>\n",
       "    </tr>\n",
       "    <tr>\n",
       "      <th>163</th>\n",
       "      <td>1598</td>\n",
       "      <td>JanssenHendrik</td>\n",
       "      <td>0.782046</td>\n",
       "      <td>JansenHendrik</td>\n",
       "      <td>2367</td>\n",
       "    </tr>\n",
       "    <tr>\n",
       "      <th>151</th>\n",
       "      <td>856</td>\n",
       "      <td>JanszAbraham</td>\n",
       "      <td>0.786793</td>\n",
       "      <td>KlaaszAbraham</td>\n",
       "      <td>2265</td>\n",
       "    </tr>\n",
       "    <tr>\n",
       "      <th>172</th>\n",
       "      <td>850</td>\n",
       "      <td>HesJacob</td>\n",
       "      <td>0.787209</td>\n",
       "      <td>HesJan</td>\n",
       "      <td>2444</td>\n",
       "    </tr>\n",
       "    <tr>\n",
       "      <th>25</th>\n",
       "      <td>110</td>\n",
       "      <td>SchreuderA</td>\n",
       "      <td>0.789617</td>\n",
       "      <td>SchreuderHendrik</td>\n",
       "      <td>431</td>\n",
       "    </tr>\n",
       "    <tr>\n",
       "      <th>43</th>\n",
       "      <td>1340</td>\n",
       "      <td>ReijnierszWouter</td>\n",
       "      <td>0.790561</td>\n",
       "      <td>ReinierszWouter</td>\n",
       "      <td>704</td>\n",
       "    </tr>\n",
       "  </tbody>\n",
       "</table>\n",
       "</div>"
      ],
      "text/plain": [
       "     left_index left_captain_name_concat  similarity          right_name_rec  \\\n",
       "46         1116            JanszLeendert    0.752968         JakobszLeendert   \n",
       "18         1358                 BrestJan    0.755783                  EstJan   \n",
       "147        1833         MichielszMichiel    0.757811        KorneliszMichiel   \n",
       "148        1818         MichielszMichiel    0.757811        KorneliszMichiel   \n",
       "69          852       WoutersBartolomeus    0.762897     NoutersBartholomeus   \n",
       "30          927           HarmenszGovert    0.763303             JanszGovert   \n",
       "58         1654            JanszGijsbert    0.763700        WillemszGijsbert   \n",
       "143        1818         MichielszMichiel    0.763937            MichielszJan   \n",
       "142        1833         MichielszMichiel    0.763937            MichielszJan   \n",
       "101         786                WiltonJan    0.764654              WiltonJohn   \n",
       "102         495                WiltonJan    0.764654              WiltonJohn   \n",
       "103         494                WiltonJan    0.764654              WiltonJohn   \n",
       "104         493                WiltonJan    0.764654              WiltonJohn   \n",
       "41         1303       LodewijkszLodewijk    0.765947         ThomaszLodewijk   \n",
       "45         1205  BrasserMatthijsLaurensz    0.766432  KosterMatthijs Laurens   \n",
       "44         1432  BrasserMatthijsLaurensz    0.766432  KosterMatthijs Laurens   \n",
       "176         703          AntheunissenJan    0.767198           EissenTheunis   \n",
       "177         702          AntheunissenJan    0.767198           EissenTheunis   \n",
       "29          913          CorneliszGovert    0.768646             JanszGovert   \n",
       "128        1279         PortGerritvander    0.770616              PortGerrit   \n",
       "127        1280         PortGerritvander    0.770616              PortGerrit   \n",
       "126        1281         PortGerritvander    0.770616              PortGerrit   \n",
       "146        1116            JanszLeendert    0.771354        LaurenszLeendert   \n",
       "182        1432  BrasserMatthijsLaurensz    0.773530         BrasserMatthijs   \n",
       "183        1205  BrasserMatthijsLaurensz    0.773530         BrasserMatthijs   \n",
       "163        1598           JanssenHendrik    0.782046           JansenHendrik   \n",
       "151         856             JanszAbraham    0.786793           KlaaszAbraham   \n",
       "172         850                 HesJacob    0.787209                  HesJan   \n",
       "25          110               SchreuderA    0.789617        SchreuderHendrik   \n",
       "43         1340         ReijnierszWouter    0.790561         ReinierszWouter   \n",
       "\n",
       "     right_index  \n",
       "46           807  \n",
       "18           344  \n",
       "147         2200  \n",
       "148         2200  \n",
       "69          1137  \n",
       "30           514  \n",
       "58           946  \n",
       "143         2032  \n",
       "142         2032  \n",
       "101         1518  \n",
       "102         1518  \n",
       "103         1518  \n",
       "104         1518  \n",
       "41           663  \n",
       "45           776  \n",
       "44           776  \n",
       "176         2638  \n",
       "177         2638  \n",
       "29           514  \n",
       "128         1913  \n",
       "127         1913  \n",
       "126         1913  \n",
       "146         2134  \n",
       "182         2778  \n",
       "183         2778  \n",
       "163         2367  \n",
       "151         2265  \n",
       "172         2444  \n",
       "25           431  \n",
       "43           704  "
      ]
     },
     "execution_count": 46,
     "metadata": {},
     "output_type": "execute_result"
    }
   ],
   "source": [
    "matched[matched[\"similarity\"] > 0.75].sort_values(\"similarity\").head(30)"
   ]
  },
  {
   "cell_type": "code",
   "execution_count": 36,
   "id": "cde53b83-95dd-40fc-9b30-b439626052c3",
   "metadata": {},
   "outputs": [
    {
     "data": {
      "text/html": [
       "<div>\n",
       "<style scoped>\n",
       "    .dataframe tbody tr th:only-of-type {\n",
       "        vertical-align: middle;\n",
       "    }\n",
       "\n",
       "    .dataframe tbody tr th {\n",
       "        vertical-align: top;\n",
       "    }\n",
       "\n",
       "    .dataframe thead th {\n",
       "        text-align: right;\n",
       "    }\n",
       "</style>\n",
       "<table border=\"1\" class=\"dataframe\">\n",
       "  <thead>\n",
       "    <tr style=\"text-align: right;\">\n",
       "      <th></th>\n",
       "      <th>left_index</th>\n",
       "      <th>left_captain_name_concat</th>\n",
       "      <th>similarity</th>\n",
       "      <th>right_side</th>\n",
       "      <th>right_index</th>\n",
       "    </tr>\n",
       "  </thead>\n",
       "  <tbody>\n",
       "    <tr>\n",
       "      <th>181</th>\n",
       "      <td>1205</td>\n",
       "      <td>BrasserMatthijsLaurensz</td>\n",
       "      <td>0.904395</td>\n",
       "      <td>BrasserMatthijs Laurentsz</td>\n",
       "      <td>2777</td>\n",
       "    </tr>\n",
       "    <tr>\n",
       "      <th>180</th>\n",
       "      <td>1432</td>\n",
       "      <td>BrasserMatthijsLaurensz</td>\n",
       "      <td>0.904395</td>\n",
       "      <td>BrasserMatthijs Laurentsz</td>\n",
       "      <td>2777</td>\n",
       "    </tr>\n",
       "    <tr>\n",
       "      <th>169</th>\n",
       "      <td>775</td>\n",
       "      <td>WoutmanFrederik</td>\n",
       "      <td>0.905909</td>\n",
       "      <td>HoutmanFrederik</td>\n",
       "      <td>2402</td>\n",
       "    </tr>\n",
       "    <tr>\n",
       "      <th>167</th>\n",
       "      <td>777</td>\n",
       "      <td>WoutmanFrederik</td>\n",
       "      <td>0.905909</td>\n",
       "      <td>HoutmanFrederik</td>\n",
       "      <td>2402</td>\n",
       "    </tr>\n",
       "    <tr>\n",
       "      <th>168</th>\n",
       "      <td>776</td>\n",
       "      <td>WoutmanFrederik</td>\n",
       "      <td>0.905909</td>\n",
       "      <td>HoutmanFrederik</td>\n",
       "      <td>2402</td>\n",
       "    </tr>\n",
       "    <tr>\n",
       "      <th>170</th>\n",
       "      <td>774</td>\n",
       "      <td>WoutmanFrederik</td>\n",
       "      <td>0.905909</td>\n",
       "      <td>HoutmanFrederik</td>\n",
       "      <td>2402</td>\n",
       "    </tr>\n",
       "    <tr>\n",
       "      <th>171</th>\n",
       "      <td>773</td>\n",
       "      <td>WoutmanFrederik</td>\n",
       "      <td>0.905909</td>\n",
       "      <td>HoutmanFrederik</td>\n",
       "      <td>2402</td>\n",
       "    </tr>\n",
       "    <tr>\n",
       "      <th>113</th>\n",
       "      <td>458</td>\n",
       "      <td>VeldeDanielde</td>\n",
       "      <td>0.948529</td>\n",
       "      <td>VeldeDaniel</td>\n",
       "      <td>1631</td>\n",
       "    </tr>\n",
       "    <tr>\n",
       "      <th>10</th>\n",
       "      <td>464</td>\n",
       "      <td>OutjesJochem</td>\n",
       "      <td>1.000000</td>\n",
       "      <td>OutjesJochem</td>\n",
       "      <td>186</td>\n",
       "    </tr>\n",
       "    <tr>\n",
       "      <th>26</th>\n",
       "      <td>1346</td>\n",
       "      <td>PropPieter</td>\n",
       "      <td>1.000000</td>\n",
       "      <td>PropPieter</td>\n",
       "      <td>446</td>\n",
       "    </tr>\n",
       "    <tr>\n",
       "      <th>33</th>\n",
       "      <td>18</td>\n",
       "      <td>CredoJan</td>\n",
       "      <td>1.000000</td>\n",
       "      <td>CredoJan</td>\n",
       "      <td>571</td>\n",
       "    </tr>\n",
       "    <tr>\n",
       "      <th>120</th>\n",
       "      <td>34</td>\n",
       "      <td>SmitJan</td>\n",
       "      <td>1.000000</td>\n",
       "      <td>SmitJan</td>\n",
       "      <td>1748</td>\n",
       "    </tr>\n",
       "    <tr>\n",
       "      <th>9</th>\n",
       "      <td>1298</td>\n",
       "      <td>OutjesJochem</td>\n",
       "      <td>1.000000</td>\n",
       "      <td>OutjesJochem</td>\n",
       "      <td>186</td>\n",
       "    </tr>\n",
       "    <tr>\n",
       "      <th>8</th>\n",
       "      <td>1304</td>\n",
       "      <td>OutjesJochem</td>\n",
       "      <td>1.000000</td>\n",
       "      <td>OutjesJochem</td>\n",
       "      <td>186</td>\n",
       "    </tr>\n",
       "    <tr>\n",
       "      <th>162</th>\n",
       "      <td>384</td>\n",
       "      <td>JansenJan</td>\n",
       "      <td>1.000000</td>\n",
       "      <td>JansenJan</td>\n",
       "      <td>2366</td>\n",
       "    </tr>\n",
       "    <tr>\n",
       "      <th>161</th>\n",
       "      <td>422</td>\n",
       "      <td>JansenJan</td>\n",
       "      <td>1.000000</td>\n",
       "      <td>JansenJan</td>\n",
       "      <td>2366</td>\n",
       "    </tr>\n",
       "    <tr>\n",
       "      <th>160</th>\n",
       "      <td>423</td>\n",
       "      <td>JansenJan</td>\n",
       "      <td>1.000000</td>\n",
       "      <td>JansenJan</td>\n",
       "      <td>2366</td>\n",
       "    </tr>\n",
       "    <tr>\n",
       "      <th>159</th>\n",
       "      <td>424</td>\n",
       "      <td>JansenJan</td>\n",
       "      <td>1.000000</td>\n",
       "      <td>JansenJan</td>\n",
       "      <td>2366</td>\n",
       "    </tr>\n",
       "    <tr>\n",
       "      <th>158</th>\n",
       "      <td>425</td>\n",
       "      <td>JansenJan</td>\n",
       "      <td>1.000000</td>\n",
       "      <td>JansenJan</td>\n",
       "      <td>2366</td>\n",
       "    </tr>\n",
       "    <tr>\n",
       "      <th>157</th>\n",
       "      <td>1530</td>\n",
       "      <td>JansenJan</td>\n",
       "      <td>1.000000</td>\n",
       "      <td>JansenJan</td>\n",
       "      <td>2366</td>\n",
       "    </tr>\n",
       "    <tr>\n",
       "      <th>140</th>\n",
       "      <td>304</td>\n",
       "      <td>MurkPieter</td>\n",
       "      <td>1.000000</td>\n",
       "      <td>MurkPieter</td>\n",
       "      <td>2000</td>\n",
       "    </tr>\n",
       "    <tr>\n",
       "      <th>173</th>\n",
       "      <td>429</td>\n",
       "      <td>HansenMatthijs</td>\n",
       "      <td>1.000000</td>\n",
       "      <td>HansenMatthijs</td>\n",
       "      <td>2511</td>\n",
       "    </tr>\n",
       "    <tr>\n",
       "      <th>0</th>\n",
       "      <td>1402</td>\n",
       "      <td>VerdoesBastiaan</td>\n",
       "      <td>1.000000</td>\n",
       "      <td>VerdoesBastiaan</td>\n",
       "      <td>20</td>\n",
       "    </tr>\n",
       "    <tr>\n",
       "      <th>99</th>\n",
       "      <td>659</td>\n",
       "      <td>WinterheimChristiaanFrederik</td>\n",
       "      <td>1.000000</td>\n",
       "      <td>WinterheimChristiaan Frederik</td>\n",
       "      <td>1516</td>\n",
       "    </tr>\n",
       "    <tr>\n",
       "      <th>184</th>\n",
       "      <td>1309</td>\n",
       "      <td>BotPieterJansz</td>\n",
       "      <td>1.000000</td>\n",
       "      <td>BotPieter Jansz</td>\n",
       "      <td>2796</td>\n",
       "    </tr>\n",
       "    <tr>\n",
       "      <th>3</th>\n",
       "      <td>37</td>\n",
       "      <td>HageropChristiaan</td>\n",
       "      <td>1.000000</td>\n",
       "      <td>HageropChristiaan</td>\n",
       "      <td>74</td>\n",
       "    </tr>\n",
       "    <tr>\n",
       "      <th>4</th>\n",
       "      <td>36</td>\n",
       "      <td>HageropChristiaan</td>\n",
       "      <td>1.000000</td>\n",
       "      <td>HageropChristiaan</td>\n",
       "      <td>74</td>\n",
       "    </tr>\n",
       "    <tr>\n",
       "      <th>15</th>\n",
       "      <td>1404</td>\n",
       "      <td>GerritszJan</td>\n",
       "      <td>1.000000</td>\n",
       "      <td>GerritszJan</td>\n",
       "      <td>341</td>\n",
       "    </tr>\n",
       "    <tr>\n",
       "      <th>16</th>\n",
       "      <td>1138</td>\n",
       "      <td>GerritszJan</td>\n",
       "      <td>1.000000</td>\n",
       "      <td>GerritszJan</td>\n",
       "      <td>341</td>\n",
       "    </tr>\n",
       "    <tr>\n",
       "      <th>17</th>\n",
       "      <td>988</td>\n",
       "      <td>GerritszJan</td>\n",
       "      <td>1.000000</td>\n",
       "      <td>GerritszJan</td>\n",
       "      <td>341</td>\n",
       "    </tr>\n",
       "  </tbody>\n",
       "</table>\n",
       "</div>"
      ],
      "text/plain": [
       "     left_index      left_captain_name_concat  similarity  \\\n",
       "181        1205       BrasserMatthijsLaurensz    0.904395   \n",
       "180        1432       BrasserMatthijsLaurensz    0.904395   \n",
       "169         775               WoutmanFrederik    0.905909   \n",
       "167         777               WoutmanFrederik    0.905909   \n",
       "168         776               WoutmanFrederik    0.905909   \n",
       "170         774               WoutmanFrederik    0.905909   \n",
       "171         773               WoutmanFrederik    0.905909   \n",
       "113         458                 VeldeDanielde    0.948529   \n",
       "10          464                  OutjesJochem    1.000000   \n",
       "26         1346                    PropPieter    1.000000   \n",
       "33           18                      CredoJan    1.000000   \n",
       "120          34                       SmitJan    1.000000   \n",
       "9          1298                  OutjesJochem    1.000000   \n",
       "8          1304                  OutjesJochem    1.000000   \n",
       "162         384                     JansenJan    1.000000   \n",
       "161         422                     JansenJan    1.000000   \n",
       "160         423                     JansenJan    1.000000   \n",
       "159         424                     JansenJan    1.000000   \n",
       "158         425                     JansenJan    1.000000   \n",
       "157        1530                     JansenJan    1.000000   \n",
       "140         304                    MurkPieter    1.000000   \n",
       "173         429                HansenMatthijs    1.000000   \n",
       "0          1402               VerdoesBastiaan    1.000000   \n",
       "99          659  WinterheimChristiaanFrederik    1.000000   \n",
       "184        1309                BotPieterJansz    1.000000   \n",
       "3            37             HageropChristiaan    1.000000   \n",
       "4            36             HageropChristiaan    1.000000   \n",
       "15         1404                   GerritszJan    1.000000   \n",
       "16         1138                   GerritszJan    1.000000   \n",
       "17          988                   GerritszJan    1.000000   \n",
       "\n",
       "                        right_side  right_index  \n",
       "181      BrasserMatthijs Laurentsz         2777  \n",
       "180      BrasserMatthijs Laurentsz         2777  \n",
       "169                HoutmanFrederik         2402  \n",
       "167                HoutmanFrederik         2402  \n",
       "168                HoutmanFrederik         2402  \n",
       "170                HoutmanFrederik         2402  \n",
       "171                HoutmanFrederik         2402  \n",
       "113                    VeldeDaniel         1631  \n",
       "10                    OutjesJochem          186  \n",
       "26                      PropPieter          446  \n",
       "33                        CredoJan          571  \n",
       "120                        SmitJan         1748  \n",
       "9                     OutjesJochem          186  \n",
       "8                     OutjesJochem          186  \n",
       "162                      JansenJan         2366  \n",
       "161                      JansenJan         2366  \n",
       "160                      JansenJan         2366  \n",
       "159                      JansenJan         2366  \n",
       "158                      JansenJan         2366  \n",
       "157                      JansenJan         2366  \n",
       "140                     MurkPieter         2000  \n",
       "173                 HansenMatthijs         2511  \n",
       "0                  VerdoesBastiaan           20  \n",
       "99   WinterheimChristiaan Frederik         1516  \n",
       "184                BotPieter Jansz         2796  \n",
       "3                HageropChristiaan           74  \n",
       "4                HageropChristiaan           74  \n",
       "15                     GerritszJan          341  \n",
       "16                     GerritszJan          341  \n",
       "17                     GerritszJan          341  "
      ]
     },
     "execution_count": 36,
     "metadata": {},
     "output_type": "execute_result"
    }
   ],
   "source": [
    "matched[matched[\"similarity\"] > 0.9].sort_values(\"similarity\").head(30)"
   ]
  },
  {
   "cell_type": "code",
   "execution_count": null,
   "id": "e2fa719c-1a1b-42e7-bff7-ce5516537c2f",
   "metadata": {},
   "outputs": [],
   "source": []
  },
  {
   "cell_type": "code",
   "execution_count": null,
   "id": "fdc1a7bc-d1d4-4d1e-be17-af4096e90121",
   "metadata": {},
   "outputs": [],
   "source": []
  }
 ],
 "metadata": {
  "kernelspec": {
   "display_name": "py310_string_science",
   "language": "python",
   "name": "py310_string_science"
  },
  "language_info": {
   "codemirror_mode": {
    "name": "ipython",
    "version": 3
   },
   "file_extension": ".py",
   "mimetype": "text/x-python",
   "name": "python",
   "nbconvert_exporter": "python",
   "pygments_lexer": "ipython3",
   "version": "3.10.8"
  }
 },
 "nbformat": 4,
 "nbformat_minor": 5
}
