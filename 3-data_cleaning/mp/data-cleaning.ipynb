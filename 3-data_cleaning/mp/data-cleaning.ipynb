{
 "cells": [
  {
   "cell_type": "markdown",
   "id": "36559902",
   "metadata": {},
   "source": [
    "# Script de préparation des données en vue de l'agrégation de Slave Voyages et de Maritime History\n",
    "\n",
    "### Imports\n",
    "* Python fonctionne avec un noyau de base et des \"librairies\", qui sont des séries de fonctions spécialisées chacune dans un domaine. Il faut déclarer celles dont on a besoin en début de script pour qu'elles soient actives.\n",
    "* Ici, la principale à noter est [Pandas](pandas.pydata.org/) qui donne une grande efficacité dans le traitement des données tabulaires."
   ]
  },
  {
   "cell_type": "code",
   "execution_count": null,
   "id": "9ff776e9",
   "metadata": {},
   "outputs": [],
   "source": [
    "from datetime import datetime\n",
    "import numpy as np\n",
    "import pandas as pd\n",
    "from SPARQLWrapper import SPARQLWrapper, SPARQLWrapper2, JSON, TURTLE, XML, RDFXML\n",
    "import csv"
   ]
  },
  {
   "cell_type": "markdown",
   "id": "48d4f27f",
   "metadata": {},
   "source": [
    "* Après avoir activé nos librairies, nous allons déclarer nos fonctions locales, c'est-à-dire des suites d'instructions 'customisées' que j'ai écrites pour cet atelier. Les déclarer en amont permet de simplifier l'écriture et la lecture du script.\n",
    "\n",
    "### FONCTION : faire un DataFrame Pandas à partir des résultats¶"
   ]
  },
  {
   "cell_type": "code",
   "execution_count": null,
   "id": "c0f3fe34",
   "metadata": {},
   "outputs": [],
   "source": [
    "def query_to_df(spql_queried):\n",
    "    \n",
    "    preparing = {}\n",
    "    \n",
    "    try:\n",
    "        spql_return = spql_queried.queryAndConvert()\n",
    "        \n",
    "        for ret in spql_return[\"results\"][\"bindings\"]:\n",
    "            for var in ret.keys():\n",
    "                if var not in preparing.keys():\n",
    "                    preparing[var] = []\n",
    "                    \n",
    "        for ret in spql_return[\"results\"][\"bindings\"]:\n",
    "            for var in preparing.keys():\n",
    "                if var in ret.keys():\n",
    "                    preparing[var].append(ret[var]['value'])\n",
    "                else:\n",
    "                    preparing[var].append('None')\n",
    "        return pd.DataFrame(preparing)\n",
    "\n",
    "    except Exception as e:\n",
    "        print(\"The query has a problem. Here is the error:\\n\\t\", e)"
   ]
  },
  {
   "cell_type": "markdown",
   "id": "c2353d92",
   "metadata": {},
   "source": [
    "### FONCTION : forcer un datetime type sur une colonne"
   ]
  },
  {
   "cell_type": "code",
   "execution_count": null,
   "id": "7331e308",
   "metadata": {},
   "outputs": [],
   "source": [
    "def force_datetime(df, column, date_format):\n",
    "\n",
    "    new_column = []\n",
    "    for cell in df[column]:\n",
    "        try:\n",
    "            if cell == '' or cell == None:\n",
    "                new_column.append(cell)\n",
    "            else:\n",
    "                date_time_obj = datetime.strptime(cell, date_format)\n",
    "                new_column.append(date_time_obj)\n",
    "        except Exception as e:\n",
    "            print(f'La cellule \"{cell}\" dans la colonne \"{column}\" a généré l\\'erreur suivante : \"{e}\" et a été gardée dans son état originel.')\n",
    "            new_column.append(cell)\n",
    "\n",
    "    return new_column"
   ]
  },
  {
   "cell_type": "markdown",
   "id": "ca6999f5",
   "metadata": {},
   "source": [
    "# Importons nos deux bases\n",
    "\n",
    "### IMPORT et exploration de Slave Voyages\n",
    "* Import des données."
   ]
  },
  {
   "cell_type": "code",
   "execution_count": null,
   "id": "cc047353",
   "metadata": {},
   "outputs": [],
   "source": [
    "slave_voyages_orig = pd.read_csv(\n",
    "    \"../../data/slave-voyages_trans-atlantic-db.csv\",\n",
    "    skip_blank_lines=False,\n",
    "    infer_datetime_format = True,\n",
    "    na_filter=False\n",
    ")"
   ]
  },
  {
   "cell_type": "markdown",
   "id": "f755d04e",
   "metadata": {},
   "source": [
    "* Restriction des colonnes. (Le tableau de Slave Voyages contient de nombreuses colonnes, mais nous n'en utiliserons que quatre ici, pas la peine donc de surcharger la mémoire.)"
   ]
  },
  {
   "cell_type": "code",
   "execution_count": null,
   "id": "3f100d25",
   "metadata": {},
   "outputs": [],
   "source": [
    "slave_voyages = slave_voyages_orig[[\"Flag of vessel\", 'Date vessel departed with captives', 'Vessel name', \"Captain's name\"]]"
   ]
  },
  {
   "cell_type": "markdown",
   "id": "b55d8860",
   "metadata": {},
   "source": [
    "* Voyons donc la tête de notre DataFrame."
   ]
  },
  {
   "cell_type": "code",
   "execution_count": null,
   "id": "f484f980",
   "metadata": {
    "scrolled": true
   },
   "outputs": [],
   "source": [
    "slave_voyages.head(5)"
   ]
  },
  {
   "cell_type": "markdown",
   "id": "0f318a00",
   "metadata": {},
   "source": [
    "### IMPORT et exploration de Maritime History\n",
    "* C'est un peu plus complexe ici. Nous travaillons avec des données liées (format RDF), il faut donc interroger la base avec le langage SPARQL, et nous en tirons un tableau grâce à la fonction `query_to_df` définie en haut.\n",
    "* Pour référence, je l'exporte en CSV avant travail.\n",
    "* Et on regarde de quoi le DataFrame de travail a l'air."
   ]
  },
  {
   "cell_type": "code",
   "execution_count": null,
   "id": "a7747ed9",
   "metadata": {
    "scrolled": false
   },
   "outputs": [],
   "source": [
    "mh_endpoint = SPARQLWrapper(\"https://sparql.geovistory.org/api_v1_project_84760\")\n",
    "mh_endpoint.setReturnFormat(JSON)\n",
    "mh_endpoint.setQuery(\"\"\"\n",
    "    PREFIX onto: <http://www.ontotext.com/>\n",
    "    PREFIX ont: <http://purl.org/net/ns/ontology-annot#>\n",
    "    PREFIX rdf: <http://www.w3.org/1999/02/22-rdf-syntax-ns#>\n",
    "    PREFIX rdfs: <http://www.w3.org/2000/01/rdf-schema#>\n",
    "    PREFIX owl: <http://www.w3.org/2002/07/owl#>\n",
    "    PREFIX xml: <http://www.w3.org/XML/1998/namespace>\n",
    "    PREFIX xsd: <http://www.w3.org/2001/XMLSchema#>\n",
    "    PREFIX geo: <http://www.opengis.net/ont/geosparql#>\n",
    "    PREFIX time: <http://www.w3.org/2006/time#>\n",
    "    PREFIX ontome: <https://ontome.net/ontology/>\n",
    "    PREFIX geov: <http://geovistory.org/resource/>\n",
    "    \n",
    "    SELECT ?voyage ?voyage_label ?voyage_start ?voyage_end ?ship ?ship_name ?participant ?participant_label\n",
    "    WHERE {\n",
    "    ?voyage rdf:type ontome:c523 ;\n",
    "        rdfs:label ?voyage_label ;\n",
    "        ontome:p4 ?tspan ;\n",
    "        ontome:p1338 ?ship .\n",
    "  ?ship rdfs:label ?ship_name .\n",
    "  ?tspan ontome:p151/rdfs:label ?voyage_end ;\n",
    "    ontome:p150/rdfs:label ?voyage_start .\n",
    "  OPTIONAL {\n",
    "    ?voyage ontome:p1359 ?participant .\n",
    "    ?participant ontome:p1111i/rdfs:label ?participant_label .\n",
    "  }\n",
    "}\n",
    "\"\"\")\n",
    "\n",
    "maritime_history = query_to_df(mh_endpoint)\n",
    "maritime_history.to_csv(\"output_voyages.csv\")\n",
    "maritime_history.head(5)"
   ]
  },
  {
   "cell_type": "markdown",
   "id": "ec534d52",
   "metadata": {},
   "source": [
    "### Quels sont les types de données ?\n",
    "* Le typage est essentiel pour la bonne marche du nettoyage. Voyons ce que notre import a fait.\n",
    "* D'abord, sur Maritime History :"
   ]
  },
  {
   "cell_type": "code",
   "execution_count": null,
   "id": "359dff11",
   "metadata": {},
   "outputs": [],
   "source": [
    "print(slave_voyages.info())"
   ]
  },
  {
   "cell_type": "markdown",
   "id": "32b04873",
   "metadata": {},
   "source": [
    "* Puis sur Slave Voyages :"
   ]
  },
  {
   "cell_type": "code",
   "execution_count": null,
   "id": "d20c4e0f",
   "metadata": {
    "scrolled": true
   },
   "outputs": [],
   "source": [
    "print(maritime_history.info())"
   ]
  },
  {
   "cell_type": "markdown",
   "id": "094705c3",
   "metadata": {},
   "source": [
    "### Aperçu des types de colonnes pour Slave Voyages"
   ]
  },
  {
   "cell_type": "code",
   "execution_count": null,
   "id": "53b47a97",
   "metadata": {},
   "outputs": [],
   "source": [
    "for column in list(slave_voyages):\n",
    "    print(f'Colonne \"{column}\", 14e cellule:\\n\\t\\t- type \"{type(slave_voyages[column][13])}\"\\n\\t\\t- (valeur : \"{slave_voyages[column][13]}\")\\n')"
   ]
  },
  {
   "cell_type": "markdown",
   "id": "d7e14e4e",
   "metadata": {},
   "source": [
    "### Aperçu des types de colonnes pour Maritime History"
   ]
  },
  {
   "cell_type": "code",
   "execution_count": null,
   "id": "055da8f4",
   "metadata": {
    "scrolled": true
   },
   "outputs": [],
   "source": [
    "for column in list(maritime_history):\n",
    "    print(f'Colonne \"{column}\", 14e cellule:\\n\\t\\t- type \"{type(maritime_history[column][13])}\"\\n\\t\\t- (valeur : \"{maritime_history[column][13]}\")\\n')"
   ]
  },
  {
   "cell_type": "markdown",
   "id": "cd9a41e4",
   "metadata": {},
   "source": [
    "### Séparer les lignes avec plusieurs noms de capitaines\n",
    "* D'abord, quelques informations."
   ]
  },
  {
   "cell_type": "code",
   "execution_count": null,
   "id": "3b390fb3",
   "metadata": {},
   "outputs": [],
   "source": [
    "column = \"Captain's name\"\n",
    "print(f\"Il y a {len(np.unique(slave_voyages[column]))} noms différents dans Slave Voyages.\")\n",
    "print(f\"Il y a {len(np.unique(maritime_history['participant_label']))} noms différents dans Maritime History.\")"
   ]
  },
  {
   "cell_type": "markdown",
   "id": "bd4dc55b",
   "metadata": {},
   "source": [
    "* Voyons à quoi ressemblent les noms de capitaines de chaque base."
   ]
  },
  {
   "cell_type": "code",
   "execution_count": null,
   "id": "1423652e",
   "metadata": {},
   "outputs": [],
   "source": [
    "print(\"Exemple de nom dans Slave Voyages :\\t\" + np.unique(slave_voyages[\"Captain's name\"])[5])\n",
    "print(\"Exemple de nom dans Maritime History :\\t\" + np.unique(maritime_history[\"participant_label\"])[5])"
   ]
  },
  {
   "cell_type": "markdown",
   "id": "45916011",
   "metadata": {},
   "source": [
    "* Il faut donc changer un système de notation en un autre. J'ai choisi de changer Slave Voyages : repérer les lignes avec plusieurs capitaines différents, et en faire une ligne par capitaine (autres champs copiés exactement)."
   ]
  },
  {
   "cell_type": "code",
   "execution_count": null,
   "id": "1904d3dc",
   "metadata": {},
   "outputs": [],
   "source": [
    "print(f\"{len(slave_voyages)} lignes avant traitement.\")\n",
    "\n",
    "dropem = []\n",
    "for index, row in slave_voyages.iterrows():\n",
    "    if '<br' in row[\"Captain's name\"]:\n",
    "        for item in row[\"Captain's name\"].split(\"<br/>\"):\n",
    "            new_row = {\n",
    "                'Flag of vessel' : row['Flag of vessel'],\n",
    "                'Date vessel departed with captives' : row['Date vessel departed with captives'],\n",
    "                'Vessel name' : row['Vessel name'],\n",
    "                \"Captain's name\" : item.lstrip().rstrip()\n",
    "            }\n",
    "            slave_voyages = slave_voyages.append(new_row, ignore_index = True)\n",
    "        dropem.append(index)\n",
    "\n",
    "slave_voyages.drop(dropem, inplace=True)\n",
    "slave_voyages.reset_index(drop=True, inplace=True)\n",
    "\n",
    "print(f\"{len(slave_voyages)} lignes après traitement.\")"
   ]
  },
  {
   "cell_type": "markdown",
   "id": "6f277894",
   "metadata": {},
   "source": [
    "### Séparer les noms corrigés des graphies originelles"
   ]
  },
  {
   "cell_type": "code",
   "execution_count": null,
   "id": "1c12a442",
   "metadata": {},
   "outputs": [],
   "source": [
    "alt_spelling = []\n",
    "captains = []\n",
    "\n",
    "\n",
    "for captain in slave_voyages['Captain\\'s name']:\n",
    "    \n",
    "    if '(a)' in captain:\n",
    "        alt_spelling.append(captain.split('(a)')[1].lstrip().rstrip())\n",
    "        captains.append(captain.split('(a)')[0].lstrip().rstrip())\n",
    "\n",
    "    else:\n",
    "        alt_spelling.append('')\n",
    "        captains.append(captain)\n",
    "\n",
    "slave_voyages[\"Original Captain's name\"] = alt_spelling\n",
    "slave_voyages[\"Corrected Captain's name\"] = captains\n",
    "\n",
    "slave_voyages.tail(5)"
   ]
  },
  {
   "cell_type": "markdown",
   "id": "c3f76a4f",
   "metadata": {},
   "source": [
    "### Réordonner les noms des capitaines"
   ]
  },
  {
   "cell_type": "code",
   "execution_count": null,
   "id": "e24639ba",
   "metadata": {},
   "outputs": [],
   "source": [
    "captains = []\n",
    "\n",
    "for captain in slave_voyages['Corrected Captain\\'s name']:\n",
    "    \n",
    "    if ',' in captain:\n",
    "        split_n = captain.split(',')\n",
    "        captains.append(split_n[1].lstrip().rstrip() + ' ' + split_n[0].lstrip().rstrip())\n",
    "    else:\n",
    "        captains.append(captain)\n",
    "\n",
    "slave_voyages[\"Reordered corrected Captain's name\"] = captains\n",
    "\n",
    "slave_voyages.tail(5)"
   ]
  },
  {
   "cell_type": "markdown",
   "id": "0547f9e5",
   "metadata": {},
   "source": [
    "### Séparer les noms de navires corrigés des graphies originelles"
   ]
  },
  {
   "cell_type": "code",
   "execution_count": null,
   "id": "c2d495b0",
   "metadata": {},
   "outputs": [],
   "source": [
    "alt_spelling = []\n",
    "ships = []\n",
    "\n",
    "\n",
    "for ship in slave_voyages['Vessel name']:\n",
    "    \n",
    "    if '(a)' in ship:\n",
    "        alt_spelling.append(ship.split('(a)')[1].lstrip().rstrip())\n",
    "        ships.append(ship.split('(a)')[0].lstrip().rstrip())\n",
    "\n",
    "    else:\n",
    "        alt_spelling.append('')\n",
    "        ships.append(ship)\n",
    "\n",
    "slave_voyages[\"Original Vessel name\"] = alt_spelling\n",
    "slave_voyages[\"Corrected Vessel name\"] = ships\n",
    "\n",
    "slave_voyages.head(5)"
   ]
  },
  {
   "cell_type": "markdown",
   "id": "76d406c5",
   "metadata": {},
   "source": [
    "### Réordonner les noms des navires"
   ]
  },
  {
   "cell_type": "code",
   "execution_count": null,
   "id": "7b5fbbde",
   "metadata": {},
   "outputs": [],
   "source": [
    "ships = []\n",
    "\n",
    "for ship in slave_voyages['Corrected Vessel name']:\n",
    "    \n",
    "    if \"'s-\" in ship:\n",
    "        split_n = ship.split('-')\n",
    "        ships.append(split_n[1].lstrip().rstrip() + ' ' + split_n[0].lstrip().rstrip())\n",
    "    else:\n",
    "        ships.append(ship)\n",
    "\n",
    "slave_voyages[\"Reordered corrected Vessel name\"] = ships\n",
    "\n",
    "slave_voyages.tail(5)"
   ]
  },
  {
   "cell_type": "markdown",
   "id": "4db33445",
   "metadata": {},
   "source": [
    "### Typage des dates\n",
    "* Que trouve-t-on dans Slave Voyages ?"
   ]
  },
  {
   "cell_type": "code",
   "execution_count": null,
   "id": "fce9ed55",
   "metadata": {},
   "outputs": [],
   "source": [
    "print(np.unique(slave_voyages['Date vessel departed with captives'])[5])\n",
    "print(type(np.unique(slave_voyages['Date vessel departed with captives'])[5]))"
   ]
  },
  {
   "cell_type": "markdown",
   "id": "0ece9ab3",
   "metadata": {},
   "source": [
    "* Que trouve-t-on dans Maritime History ?"
   ]
  },
  {
   "cell_type": "code",
   "execution_count": null,
   "id": "57bb7076",
   "metadata": {},
   "outputs": [],
   "source": [
    "print(np.unique(maritime_history['voyage_start'])[5])\n",
    "print(type(np.unique(maritime_history['voyage_start'])[5]))"
   ]
  },
  {
   "cell_type": "markdown",
   "id": "a662c828",
   "metadata": {},
   "source": [
    "* La date minimum gérée par le type DateTime64 de Pandas (son seul point faible), c'est :"
   ]
  },
  {
   "cell_type": "code",
   "execution_count": null,
   "id": "e09c36d6",
   "metadata": {},
   "outputs": [],
   "source": [
    "pd.Timestamp.min"
   ]
  },
  {
   "cell_type": "markdown",
   "id": "43b81888",
   "metadata": {},
   "source": [
    "* Dommage qu'en histoire, on ait très souvent besoin de dates antérieures. Il va falloir faire autrement :\n",
    "* On ne peut peut-être pas typer la colonne comme contenant des dates, mais on peut typer chaque objet comme étant une date. Cela nécessite un peu de temps à vérifier quel est le format utilisé pour le préciser, et une petite fonction _ad hoc_ écrite par @gaetanmuck et incluse en haut."
   ]
  },
  {
   "cell_type": "code",
   "execution_count": null,
   "id": "99111442",
   "metadata": {},
   "outputs": [],
   "source": [
    "maritime_history['voyage_start'] = force_datetime(maritime_history, \"voyage_start\", '%Y-%m-%d')\n",
    "maritime_history['voyage_end'] = force_datetime(maritime_history, \"voyage_end\", '%Y-%m-%d')\n",
    "slave_voyages['Date vessel departed with captives'] = force_datetime(slave_voyages, \"Date vessel departed with captives\", '%Y-%m-%dT%H:%M:%SZ')"
   ]
  }
 ],
 "metadata": {
  "kernelspec": {
   "display_name": "Python 3 (ipykernel)",
   "language": "python",
   "name": "python3"
  },
  "language_info": {
   "codemirror_mode": {
    "name": "ipython",
    "version": 3
   },
   "file_extension": ".py",
   "mimetype": "text/x-python",
   "name": "python",
   "nbconvert_exporter": "python",
   "pygments_lexer": "ipython3",
   "version": "3.9.7"
  }
 },
 "nbformat": 4,
 "nbformat_minor": 5
}
