{
 "cells": [
  {
   "cell_type": "markdown",
   "id": "36559902",
   "metadata": {},
   "source": [
    "for @MPica\n"
   ]
  },
  {
   "cell_type": "code",
   "execution_count": 1,
   "id": "9ff776e9",
   "metadata": {},
   "outputs": [],
   "source": [
    "import os\n",
    "from datetime import datetime\n",
    "import numpy as np\n",
    "import pandas as pd\n",
    "import matplotlib.pyplot as plt\n",
    "from SPARQLWrapper import SPARQLWrapper, JSON\n",
    "import rdflib\n",
    "import csv\n",
    "import re"
   ]
  },
  {
   "cell_type": "markdown",
   "id": "46857942",
   "metadata": {},
   "source": []
  },
  {
   "cell_type": "code",
   "execution_count": 85,
   "id": "d98ef0be",
   "metadata": {},
   "outputs": [],
   "source": [
    "def query_to_table(spql_queried):\n",
    "    \n",
    "    preparing = {}\n",
    "\n",
    "    try:\n",
    "        spql_return = spql_queried.queryAndConvert()\n",
    "\n",
    "        for ret in spql_return[\"results\"][\"bindings\"]:\n",
    "            for var in ret.keys():\n",
    "                if var in preparing.keys():\n",
    "                    preparing[var].append(ret[var]['value'])\n",
    "                else:\n",
    "                    preparing[var] = [ret[var]['value']]\n",
    "        return pd.DataFrame(preparing)\n",
    "\n",
    "    except Exception as e:\n",
    "        print(\"The query has a problem. Here is the error:\\n\\t\", e)"
   ]
  },
  {
   "cell_type": "markdown",
   "id": "ca6999f5",
   "metadata": {},
   "source": [
    "### Import de Slave Voyages"
   ]
  },
  {
   "cell_type": "code",
   "execution_count": 3,
   "id": "f484f980",
   "metadata": {
    "scrolled": true
   },
   "outputs": [
    {
     "data": {
      "text/html": [
       "<div>\n",
       "<style scoped>\n",
       "    .dataframe tbody tr th:only-of-type {\n",
       "        vertical-align: middle;\n",
       "    }\n",
       "\n",
       "    .dataframe tbody tr th {\n",
       "        vertical-align: top;\n",
       "    }\n",
       "\n",
       "    .dataframe thead th {\n",
       "        text-align: right;\n",
       "    }\n",
       "</style>\n",
       "<table border=\"1\" class=\"dataframe\">\n",
       "  <thead>\n",
       "    <tr style=\"text-align: right;\">\n",
       "      <th></th>\n",
       "      <th>Flag of vessel</th>\n",
       "      <th>Date vessel departed with captives</th>\n",
       "      <th>Vessel name</th>\n",
       "      <th>Captain's name</th>\n",
       "    </tr>\n",
       "  </thead>\n",
       "  <tbody>\n",
       "    <tr>\n",
       "      <th>0</th>\n",
       "      <td>Netherlands</td>\n",
       "      <td>1732-09-03T00:00:00Z</td>\n",
       "      <td>Waartwijk</td>\n",
       "      <td>Velde, Daniel ter</td>\n",
       "    </tr>\n",
       "    <tr>\n",
       "      <th>1</th>\n",
       "      <td>Netherlands</td>\n",
       "      <td>1706-09-09T00:00:00Z</td>\n",
       "      <td>Wakende Kraan</td>\n",
       "      <td>Hoeven, Jan van der&lt;br/&gt; Wenman, Roelof</td>\n",
       "    </tr>\n",
       "    <tr>\n",
       "      <th>2</th>\n",
       "      <td>Netherlands</td>\n",
       "      <td></td>\n",
       "      <td>Wapen van Amsterdam</td>\n",
       "      <td></td>\n",
       "    </tr>\n",
       "    <tr>\n",
       "      <th>3</th>\n",
       "      <td>Netherlands</td>\n",
       "      <td></td>\n",
       "      <td>Wapen van Amsterdam</td>\n",
       "      <td>Scheij, Pieter</td>\n",
       "    </tr>\n",
       "    <tr>\n",
       "      <th>4</th>\n",
       "      <td>Netherlands</td>\n",
       "      <td>1700-12-15T00:00:00Z</td>\n",
       "      <td>Wapen van Holland (a) Hollandia</td>\n",
       "      <td>Stoop, Pieter&lt;br/&gt; Crans, Pieter</td>\n",
       "    </tr>\n",
       "  </tbody>\n",
       "</table>\n",
       "</div>"
      ],
      "text/plain": [
       "  Flag of vessel Date vessel departed with captives  \\\n",
       "0    Netherlands               1732-09-03T00:00:00Z   \n",
       "1    Netherlands               1706-09-09T00:00:00Z   \n",
       "2    Netherlands                                      \n",
       "3    Netherlands                                      \n",
       "4    Netherlands               1700-12-15T00:00:00Z   \n",
       "\n",
       "                       Vessel name                           Captain's name  \n",
       "0                        Waartwijk                        Velde, Daniel ter  \n",
       "1                    Wakende Kraan  Hoeven, Jan van der<br/> Wenman, Roelof  \n",
       "2              Wapen van Amsterdam                                           \n",
       "3              Wapen van Amsterdam                           Scheij, Pieter  \n",
       "4  Wapen van Holland (a) Hollandia         Stoop, Pieter<br/> Crans, Pieter  "
      ]
     },
     "execution_count": 3,
     "metadata": {},
     "output_type": "execute_result"
    }
   ],
   "source": [
    "# Import des données.\n",
    "\n",
    "slave_voyages_orig = pd.read_csv(\n",
    "    \"../../data/slave-voyages_trans-atlantic-db.csv\",\n",
    "    skip_blank_lines=False,\n",
    "    infer_datetime_format = True,\n",
    "    na_filter=False\n",
    ")\n",
    "\n",
    "# Contrôle des variables disponibles.\n",
    "\n",
    "#for header in list(slave_voyages_orig):\n",
    "#    print(header)\n",
    "\n",
    "# Restriction des colonnes.\n",
    "\n",
    "slave_voyages = slave_voyages_orig[[\"Flag of vessel\", 'Date vessel departed with captives', 'Vessel name', \"Captain's name\"]]\n",
    "\n",
    "\n",
    "# Contrôle des 10 premières lignes.\n",
    "\n",
    "slave_voyages.head(5)"
   ]
  }
 ],
 "metadata": {
  "kernelspec": {
   "display_name": "Python 3 (ipykernel)",
   "language": "python",
   "name": "python3"
  },
  "language_info": {
   "codemirror_mode": {
    "name": "ipython",
    "version": 3
   },
   "file_extension": ".py",
   "mimetype": "text/x-python",
   "name": "python",
   "nbconvert_exporter": "python",
   "pygments_lexer": "ipython3",
   "version": "3.9.7"
  }
 },
 "nbformat": 4,
 "nbformat_minor": 5
}
