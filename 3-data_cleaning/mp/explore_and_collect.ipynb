{
 "cells": [
  {
   "cell_type": "markdown",
   "id": "36559902",
   "metadata": {},
   "source": [
    "for @MPica\n",
    "\n",
    "# Requêtes test sur Maritime History et export Turtle\n",
    "\n",
    "### Imports"
   ]
  },
  {
   "cell_type": "code",
   "execution_count": null,
   "id": "9ff776e9",
   "metadata": {},
   "outputs": [],
   "source": [
    "import os\n",
    "from datetime import datetime\n",
    "import numpy as np\n",
    "import pandas as pd\n",
    "import matplotlib.pyplot as plt\n",
    "from SPARQLWrapper import SPARQLWrapper, SPARQLWrapper2, JSON, TURTLE, XML, RDFXML\n",
    "import csv\n",
    "import re"
   ]
  },
  {
   "cell_type": "markdown",
   "id": "46857942",
   "metadata": {},
   "source": [
    "### FONCTION : faire un DataFrame Pandas à partir des résultats"
   ]
  },
  {
   "cell_type": "code",
   "execution_count": null,
   "id": "d98ef0be",
   "metadata": {},
   "outputs": [],
   "source": [
    "def query_to_df(spql_queried):\n",
    "    \n",
    "    preparing = {}\n",
    "    \n",
    "    try:\n",
    "        spql_return = spql_queried.queryAndConvert()\n",
    "        \n",
    "        for ret in spql_return[\"results\"][\"bindings\"]:\n",
    "            for var in ret.keys():\n",
    "                if var not in preparing.keys():\n",
    "                    preparing[var] = []\n",
    "                    \n",
    "        for ret in spql_return[\"results\"][\"bindings\"]:\n",
    "            for var in preparing.keys():\n",
    "                if var in ret.keys():\n",
    "                    preparing[var].append(ret[var]['value'])\n",
    "                else:\n",
    "                    preparing[var].append('None')\n",
    "        return pd.DataFrame(preparing)\n",
    "\n",
    "    except Exception as e:\n",
    "        print(\"The query has a problem. Here is the error:\\n\\t\", e)"
   ]
  },
  {
   "cell_type": "markdown",
   "id": "caff0932",
   "metadata": {},
   "source": [
    "## Exploration de Maritime History\n",
    "\n",
    "### Enregistrer le point d'accès et le format de sortie"
   ]
  },
  {
   "cell_type": "code",
   "execution_count": null,
   "id": "0f031927",
   "metadata": {},
   "outputs": [],
   "source": [
    "mh_endpoint = SPARQLWrapper(\"https://sparql.geovistory.org/api_v1_project_84760\")\n",
    "mh_endpoint.setReturnFormat(JSON)\n",
    "mh_prefixes = \"\"\"\n",
    "    PREFIX onto: <http://www.ontotext.com/>\n",
    "    PREFIX ont: <http://purl.org/net/ns/ontology-annot#>\n",
    "    PREFIX rdf: <http://www.w3.org/1999/02/22-rdf-syntax-ns#>\n",
    "    PREFIX rdfs: <http://www.w3.org/2000/01/rdf-schema#>\n",
    "    PREFIX owl: <http://www.w3.org/2002/07/owl#>\n",
    "    PREFIX xml: <http://www.w3.org/XML/1998/namespace>\n",
    "    PREFIX xsd: <http://www.w3.org/2001/XMLSchema#>\n",
    "    PREFIX geo: <http://www.opengis.net/ont/geosparql#>\n",
    "    PREFIX time: <http://www.w3.org/2006/time#>\n",
    "    PREFIX ontome: <https://ontome.net/ontology/>\n",
    "    PREFIX geov: <http://geovistory.org/resource/>\n",
    "\"\"\""
   ]
  },
  {
   "cell_type": "markdown",
   "id": "46e6356b",
   "metadata": {},
   "source": [
    "### Voir quelles classes on peut y trouver\n",
    "\n",
    "Merci à @atterebf pour cette requête."
   ]
  },
  {
   "cell_type": "code",
   "execution_count": null,
   "id": "84431322",
   "metadata": {},
   "outputs": [],
   "source": [
    "mh_endpoint.setQuery(mh_prefixes + \"\"\"\n",
    "    SELECT  (STR(?eff) as ?str_eff) (GROUP_CONCAT(?label; SEPARATOR = ' / ')  as ?cct_label)  ?class\n",
    "    WHERE {\n",
    "    \n",
    "    {\n",
    "        SELECT (COUNT(*) as ?eff) ?class ?label\n",
    "    WHERE {\n",
    "      ?inst a ?class.\n",
    "      ### comment next line to have all classes\n",
    "      ?class a owl:Class.\n",
    "          OPTIONAL { ?class rdfs:label ?label}\n",
    "\n",
    "    }\n",
    "    GROUP BY ?class ?label\n",
    "\n",
    "    }\n",
    "    FILTER(strlen(?label))\n",
    "\n",
    "    }\n",
    "    GROUP BY ?class ?eff\n",
    "    ORDER BY DESC(?eff)\n",
    "\"\"\")\n",
    "\n",
    "class_summary = query_to_df(mh_endpoint)"
   ]
  },
  {
   "cell_type": "code",
   "execution_count": null,
   "id": "dbb1d4bf",
   "metadata": {
    "scrolled": true
   },
   "outputs": [],
   "source": [
    "class_summary.to_csv(\"info_data/class_summary.csv\")\n",
    "print(class_summary)"
   ]
  },
  {
   "cell_type": "markdown",
   "id": "cf3438bf",
   "metadata": {},
   "source": [
    "### Voir quels prédicats les instances de ces classes peuvent avoir"
   ]
  },
  {
   "cell_type": "code",
   "execution_count": null,
   "id": "e95c9aab",
   "metadata": {},
   "outputs": [],
   "source": [
    "mh_endpoint.setQuery(mh_prefixes + \"\"\"\n",
    "    SELECT ?pl ?p\n",
    "    WHERE {\n",
    "    ?sc a owl:Class .\n",
    "    ?s rdf:type ?sc ;\n",
    "        ?p ?o .\n",
    "    ?p rdfs:label ?pl .\n",
    "    FILTER (lang(?pl) = \"en\")\n",
    "    }\n",
    "\"\"\")\n",
    "\n",
    "what_predicates = query_to_df(mh_endpoint)"
   ]
  },
  {
   "cell_type": "code",
   "execution_count": null,
   "id": "fc50337c",
   "metadata": {
    "scrolled": true
   },
   "outputs": [],
   "source": [
    "sum_what_preds = what_predicates[[\"p\", \"pl\"]].value_counts()\n",
    "print(sum_what_preds)\n",
    "sum_what_preds.to_csv(\"info_data/entity_predicates.csv\")"
   ]
  },
  {
   "cell_type": "markdown",
   "id": "c4a97b95",
   "metadata": {},
   "source": [
    "### Get all ship names and predicates"
   ]
  },
  {
   "cell_type": "code",
   "execution_count": null,
   "id": "d176d795",
   "metadata": {},
   "outputs": [],
   "source": [
    "mh_endpoint.setQuery(mh_prefixes + \"\"\"\n",
    "    SELECT ?s ?sl ?pl\n",
    "    WHERE {\n",
    "    ?s rdf:type ontome:c522 ;\n",
    "        ?p ?o ;\n",
    "        rdfs:label ?sl .\n",
    "    ?p rdfs:label ?pl .\n",
    "    FILTER (lang(?pl) = \"en\")\n",
    "    }\n",
    "\"\"\")\n",
    "\n",
    "ship_preds = query_to_df(mh_endpoint)"
   ]
  },
  {
   "cell_type": "code",
   "execution_count": null,
   "id": "69b5ddc5",
   "metadata": {},
   "outputs": [],
   "source": [
    "sum_ship_preds = ship_preds.value_counts()\n",
    "print(sum_ship_preds)\n",
    "sum_ship_preds.to_csv(\"info_data/ship_names_and_predicates.csv\")"
   ]
  },
  {
   "cell_type": "code",
   "execution_count": null,
   "id": "d6d70ca8",
   "metadata": {
    "scrolled": true
   },
   "outputs": [],
   "source": [
    "print(f\"Il y a {len(np.unique(ship_preds['s']))} navires dans la base de données Maritime History.\")\n",
    "print(f\"Il y a {len(ship_preds)} informations sur ces navires.\")\n",
    "print(f\"Ces informations sont des types suivants :\\n\\t{[pl for pl in np.unique(ship_preds['pl'])]}\")"
   ]
  },
  {
   "cell_type": "markdown",
   "id": "f0f4ef01",
   "metadata": {},
   "source": [
    "### Get all person names and predicates"
   ]
  },
  {
   "cell_type": "code",
   "execution_count": null,
   "id": "916416ce",
   "metadata": {},
   "outputs": [],
   "source": [
    "mh_endpoint.setQuery(mh_prefixes + \"\"\"\n",
    "    SELECT ?s ?sl ?pl\n",
    "    WHERE {\n",
    "    ?s rdf:type ontome:c21 ;\n",
    "        ?p ?o ;\n",
    "        rdfs:label ?sl .\n",
    "    ?p rdfs:label ?pl .\n",
    "    FILTER (lang(?pl) = \"en\")\n",
    "    }\n",
    "\"\"\")\n",
    "\n",
    "person_preds = query_to_df(mh_endpoint)"
   ]
  },
  {
   "cell_type": "code",
   "execution_count": null,
   "id": "352bd3e5",
   "metadata": {},
   "outputs": [],
   "source": [
    "sum_person_preds = person_preds.value_counts()\n",
    "print(sum_person_preds)\n",
    "sum_person_preds.to_csv(\"info_data/person_names_and_predicates.csv\")"
   ]
  },
  {
   "cell_type": "code",
   "execution_count": null,
   "id": "dada5ecf",
   "metadata": {},
   "outputs": [],
   "source": [
    "print(f\"Il y a {len(np.unique(person_preds['s']))} personnes dans la base de données Maritime History.\")\n",
    "print(f\"Il y a {len(person_preds)} informations sur ces personnes.\")\n",
    "print(f\"Ces informations sont des types suivants :\\n\\t{[pl for pl in np.unique(person_preds['pl'])]}\")"
   ]
  },
  {
   "cell_type": "markdown",
   "id": "2899f01e",
   "metadata": {},
   "source": [
    "### Get all voyages and predicates"
   ]
  },
  {
   "cell_type": "code",
   "execution_count": null,
   "id": "216a6407",
   "metadata": {},
   "outputs": [],
   "source": [
    "mh_endpoint.setQuery(mh_prefixes + \"\"\"\n",
    "    SELECT ?s ?sl ?pl\n",
    "    WHERE {\n",
    "    ?s rdf:type ontome:c523 ;\n",
    "        ?p ?o ;\n",
    "        rdfs:label ?sl .\n",
    "    ?p rdfs:label ?pl .\n",
    "    FILTER (lang(?pl) = \"en\")\n",
    "    }\n",
    "\"\"\")\n",
    "\n",
    "voyage_preds = query_to_df(mh_endpoint)"
   ]
  },
  {
   "cell_type": "code",
   "execution_count": null,
   "id": "acac04d2",
   "metadata": {
    "scrolled": true
   },
   "outputs": [],
   "source": [
    "sum_voy_preds = voyage_preds.value_counts()\n",
    "print(sum_voy_preds)\n",
    "sum_voy_preds.to_csv(\"info_data/voyage_names_and_predicates.csv\")"
   ]
  },
  {
   "cell_type": "code",
   "execution_count": null,
   "id": "344bb069",
   "metadata": {},
   "outputs": [],
   "source": [
    "print(f\"Il y a {len(np.unique(voyage_preds['s']))} voyages dans la base de données Maritime History.\")\n",
    "print(f\"Il y a {len(voyage_preds)} informations sur ces voyages.\")\n",
    "print(f\"Ces informations sont des types suivants :\\n\\t{[pl for pl in np.unique(voyage_preds['pl'])]}\")"
   ]
  },
  {
   "cell_type": "markdown",
   "id": "92b4a3d4",
   "metadata": {},
   "source": [
    "### Exporter les objets pertinents"
   ]
  },
  {
   "cell_type": "code",
   "execution_count": null,
   "id": "0a739d99",
   "metadata": {
    "scrolled": true
   },
   "outputs": [],
   "source": [
    "mh_endpoint.setQuery(mh_prefixes + \"\"\"\n",
    "    SELECT ?instance ?instlabel ?eob ?boe ?ship ?shipname ?dplace ?dplabel ?dude ?participant\n",
    "    WHERE {\n",
    "    ?instance rdf:type ontome:c523 ;\n",
    "        rdfs:label ?instlabel ;\n",
    "        ontome:p4 ?tspan ;\n",
    "        ontome:p1335 ?dplace ;\n",
    "        ontome:p1338 ?ship .\n",
    "  ?ship rdfs:label ?shipname .\n",
    "  ?tspan ontome:p151/rdfs:label ?boe ;\n",
    "    ontome:p150/rdfs:label ?eob .\n",
    "  ?dplace rdfs:label ?dplabel .\n",
    "  OPTIONAL {\n",
    "    ?instance ontome:p1359 ?dude .\n",
    "    ?dude ontome:p1111i/rdfs:label ?participant .\n",
    "  }\n",
    "}\n",
    "\"\"\")\n",
    "\n",
    "complete = query_to_df(mh_endpoint)\n",
    "complete.to_csv(\"output_voyages.csv\")"
   ]
  }
 ],
 "metadata": {
  "kernelspec": {
   "display_name": "Python 3 (ipykernel)",
   "language": "python",
   "name": "python3"
  },
  "language_info": {
   "codemirror_mode": {
    "name": "ipython",
    "version": 3
   },
   "file_extension": ".py",
   "mimetype": "text/x-python",
   "name": "python",
   "nbconvert_exporter": "python",
   "pygments_lexer": "ipython3",
   "version": "3.9.7"
  }
 },
 "nbformat": 4,
 "nbformat_minor": 5
}
