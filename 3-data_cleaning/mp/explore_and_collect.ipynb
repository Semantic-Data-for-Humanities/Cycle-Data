{
 "cells": [
  {
   "cell_type": "markdown",
   "id": "36559902",
   "metadata": {},
   "source": [
    "for @MPica\n",
    "\n",
    "# Requêtes test sur Maritime History et export Turtle\n",
    "\n",
    "### Imports"
   ]
  },
  {
   "cell_type": "code",
   "execution_count": 19,
   "id": "9ff776e9",
   "metadata": {},
   "outputs": [],
   "source": [
    "import os\n",
    "from datetime import datetime\n",
    "import numpy as np\n",
    "import pandas as pd\n",
    "import matplotlib.pyplot as plt\n",
    "from SPARQLWrapper import SPARQLWrapper, JSON\n",
    "import rdflib\n",
    "import csv\n",
    "import re"
   ]
  },
  {
   "cell_type": "markdown",
   "id": "46857942",
   "metadata": {},
   "source": [
    "### FONCTION : faire un DataFrame Pandas à partir des résultats"
   ]
  },
  {
   "cell_type": "code",
   "execution_count": 33,
   "id": "d98ef0be",
   "metadata": {},
   "outputs": [],
   "source": [
    "def query_to_df(spql_queried):\n",
    "    \n",
    "    preparing = {}\n",
    "    \n",
    "    try:\n",
    "        spql_return = spql_queried.queryAndConvert()\n",
    "        \n",
    "        for ret in spql_return[\"results\"][\"bindings\"]:\n",
    "            for var in ret.keys():\n",
    "                if var not in preparing.keys():\n",
    "                    preparing[var] = []\n",
    "                    \n",
    "        for ret in spql_return[\"results\"][\"bindings\"]:\n",
    "            for var in preparing.keys():\n",
    "                if var in ret.keys():\n",
    "                    preparing[var].append(ret[var]['value'])\n",
    "                else:\n",
    "                    preparing[var].append('None')\n",
    "        return pd.DataFrame(preparing)\n",
    "\n",
    "    except Exception as e:\n",
    "        print(\"The query has a problem. Here is the error:\\n\\t\", e)"
   ]
  },
  {
   "cell_type": "markdown",
   "id": "caff0932",
   "metadata": {},
   "source": [
    "## Exploration de Maritime History\n",
    "\n",
    "### Enregistrer le point d'accès et le format de sortie"
   ]
  },
  {
   "cell_type": "code",
   "execution_count": 21,
   "id": "0f031927",
   "metadata": {},
   "outputs": [],
   "source": [
    "mh_endpoint = SPARQLWrapper(\"https://sparql.geovistory.org/api_v1_project_84760\")\n",
    "mh_endpoint.setReturnFormat(JSON)\n",
    "mh_prefixes = \"\"\"\n",
    "    PREFIX onto: <http://www.ontotext.com/>\n",
    "    PREFIX ont: <http://purl.org/net/ns/ontology-annot#>\n",
    "    PREFIX rdf: <http://www.w3.org/1999/02/22-rdf-syntax-ns#>\n",
    "    PREFIX rdfs: <http://www.w3.org/2000/01/rdf-schema#>\n",
    "    PREFIX owl: <http://www.w3.org/2002/07/owl#>\n",
    "    PREFIX xml: <http://www.w3.org/XML/1998/namespace>\n",
    "    PREFIX xsd: <http://www.w3.org/2001/XMLSchema#>\n",
    "    PREFIX geo: <http://www.opengis.net/ont/geosparql#>\n",
    "    PREFIX time: <http://www.w3.org/2006/time#>\n",
    "    PREFIX ontome: <https://ontome.net/ontology/>\n",
    "    PREFIX geov: <http://geovistory.org/resource/>\n",
    "\"\"\""
   ]
  },
  {
   "cell_type": "markdown",
   "id": "46e6356b",
   "metadata": {},
   "source": [
    "### Voir quelles classes on peut y trouver\n",
    "\n",
    "Merci à @atterebf pour cette requête."
   ]
  },
  {
   "cell_type": "code",
   "execution_count": 4,
   "id": "84431322",
   "metadata": {},
   "outputs": [],
   "source": [
    "mh_endpoint.setQuery(mh_prefixes + \"\"\"\n",
    "    SELECT  (STR(?eff) as ?str_eff) (GROUP_CONCAT(?label; SEPARATOR = ' / ')  as ?cct_label)  ?class\n",
    "    WHERE {\n",
    "    \n",
    "    {\n",
    "        SELECT (COUNT(*) as ?eff) ?class ?label\n",
    "    WHERE {\n",
    "      ?inst a ?class.\n",
    "      ### comment next line to have all classes\n",
    "      ?class a owl:Class.\n",
    "          OPTIONAL { ?class rdfs:label ?label}\n",
    "\n",
    "    }\n",
    "    GROUP BY ?class ?label\n",
    "\n",
    "    }\n",
    "    FILTER(strlen(?label))\n",
    "\n",
    "    }\n",
    "    GROUP BY ?class ?eff\n",
    "    ORDER BY DESC(?eff)\n",
    "\"\"\")\n",
    "\n",
    "class_summary = query_to_df(mh_endpoint)"
   ]
  },
  {
   "cell_type": "code",
   "execution_count": 5,
   "id": "dbb1d4bf",
   "metadata": {
    "scrolled": true
   },
   "outputs": [
    {
     "name": "stdout",
     "output_type": "stream",
     "text": [
      "   str_eff                           cct_label  \\\n",
      "0    14303    Person Appellation in a Language   \n",
      "1     8189                         Ship Voyage   \n",
      "2     8174                           Time-Span   \n",
      "3     7614                              Person   \n",
      "4     7217           Appellation in a Language   \n",
      "5     5278                  Geographical Place   \n",
      "6     5269                            Presence   \n",
      "7     1855                                Ship   \n",
      "8       28                  Annotation in Text   \n",
      "9       28                          Definition   \n",
      "10      10  Type of manifestation product type   \n",
      "11       8                         VOC Chamber   \n",
      "12       5         Expression / Source Content   \n",
      "13       4              Bibliographical Record   \n",
      "14       4                  Expression portion   \n",
      "15       3                 Entity Quality Type   \n",
      "16       3             Expression Portion Type   \n",
      "17       3             Geographical Place Type   \n",
      "18       3        Manifestation Singleton Type   \n",
      "19       3                                Text   \n",
      "20       2                           Item Type   \n",
      "21       1                        Construction   \n",
      "22       1                   Construction Type   \n",
      "\n",
      "                               class  \n",
      "0   https://ontome.net/ontology/c868  \n",
      "1   https://ontome.net/ontology/c523  \n",
      "2    https://ontome.net/ontology/c50  \n",
      "3    https://ontome.net/ontology/c21  \n",
      "4   https://ontome.net/ontology/c365  \n",
      "5   https://ontome.net/ontology/c363  \n",
      "6    https://ontome.net/ontology/c84  \n",
      "7   https://ontome.net/ontology/c522  \n",
      "8   https://ontome.net/ontology/c933  \n",
      "9   https://ontome.net/ontology/c899  \n",
      "10  https://ontome.net/ontology/c452  \n",
      "11  https://ontome.net/ontology/c529  \n",
      "12  https://ontome.net/ontology/c218  \n",
      "13  https://ontome.net/ontology/c219  \n",
      "14  https://ontome.net/ontology/c503  \n",
      "15  https://ontome.net/ontology/c520  \n",
      "16  https://ontome.net/ontology/c516  \n",
      "17  https://ontome.net/ontology/c364  \n",
      "18  https://ontome.net/ontology/c450  \n",
      "19  https://ontome.net/ontology/c785  \n",
      "20  https://ontome.net/ontology/c519  \n",
      "21  https://ontome.net/ontology/c441  \n",
      "22  https://ontome.net/ontology/c443  \n"
     ]
    }
   ],
   "source": [
    "class_summary.to_csv(\"info_data/class_summary.csv\")\n",
    "print(class_summary)"
   ]
  },
  {
   "cell_type": "markdown",
   "id": "cf3438bf",
   "metadata": {},
   "source": [
    "### Voir quels prédicats les instances de ces classes peuvent avoir"
   ]
  },
  {
   "cell_type": "code",
   "execution_count": 6,
   "id": "e95c9aab",
   "metadata": {},
   "outputs": [],
   "source": [
    "mh_endpoint.setQuery(mh_prefixes + \"\"\"\n",
    "    SELECT ?pl ?p\n",
    "    WHERE {\n",
    "    ?sc a owl:Class .\n",
    "    ?s rdf:type ?sc ;\n",
    "        ?p ?o .\n",
    "    ?p rdfs:label ?pl .\n",
    "    FILTER (lang(?pl) = \"en\")\n",
    "    }\n",
    "\"\"\")\n",
    "\n",
    "what_predicates = query_to_df(mh_endpoint)"
   ]
  },
  {
   "cell_type": "code",
   "execution_count": 7,
   "id": "fc50337c",
   "metadata": {
    "scrolled": true
   },
   "outputs": [
    {
     "name": "stdout",
     "output_type": "stream",
     "text": [
      "p                                                pl                                    \n",
      "http://www.w3.org/1999/02/22-rdf-syntax-ns#type  has type                                  58005\n",
      "http://www.w3.org/2000/01/rdf-schema#label       has label                                 58005\n",
      "https://ontome.net/ontology/p1111                is appellation for language of            21521\n",
      "https://ontome.net/ontology/p1113                refers to name                            21520\n",
      "https://ontome.net/ontology/p1111i               has appellation for language              21519\n",
      "https://ontome.net/ontology/p4i                  is time-span of                            8174\n",
      "https://ontome.net/ontology/p1338i               had carried out                            8166\n",
      "https://ontome.net/ontology/p1338                was carried out by                         8166\n",
      "https://ontome.net/ontology/p4                   has time-span                              8164\n",
      "https://ontome.net/ontology/p1335                had departure place                        8162\n",
      "https://ontome.net/ontology/p1335i               was departure place of                     8162\n",
      "https://ontome.net/ontology/p150                 end of the begin                           8136\n",
      "https://ontome.net/ontology/p1354                has set up                                 8030\n",
      "https://ontome.net/ontology/p1354i               was set up by                              8030\n",
      "https://ontome.net/ontology/p1359                participated in                            7730\n",
      "https://ontome.net/ontology/p1359i               had as participant                         7730\n",
      "https://ontome.net/ontology/p1336                had arrival place                          7610\n",
      "https://ontome.net/ontology/p1336i               was arrival place of                       7610\n",
      "https://ontome.net/ontology/p151                 begin of the end                           7527\n",
      "https://ontome.net/ontology/p147                 was a presence of                          5269\n",
      "https://ontome.net/ontology/p147i                had presence                               5269\n",
      "https://ontome.net/ontology/p148                 was within                                 5269\n",
      "https://ontome.net/ontology/p1112                used in language                             37\n",
      "https://ontome.net/ontology/p1864                has value version                            31\n",
      "https://ontome.net/ontology/p63                  has language                                 28\n",
      "https://ontome.net/ontology/p1875i               is annotated by                              28\n",
      "https://ontome.net/ontology/p1875                annotated entity                             28\n",
      "https://ontome.net/ontology/p1874                at position                                  28\n",
      "https://ontome.net/ontology/p1762                has definition                               28\n",
      "https://ontome.net/ontology/p1872                is annotated in                              28\n",
      "https://ontome.net/ontology/p1762i               is definition of                             28\n",
      "https://ontome.net/ontology/p1872i               has annotation                               25\n",
      "https://ontome.net/ontology/p1761                has short title                               9\n",
      "https://ontome.net/ontology/p979                 carriers provided by                          5\n",
      "https://ontome.net/ontology/p979i                comprises carriers of                         5\n",
      "https://ontome.net/ontology/p1206                has type of manifestation product type        4\n",
      "https://ontome.net/ontology/p1206i               is type of                                    4\n",
      "https://ontome.net/ontology/p1317                is part of                                    4\n",
      "https://ontome.net/ontology/p1317i               has as part                                   4\n",
      "https://ontome.net/ontology/p1320i               is expression portion type of                 3\n",
      "https://ontome.net/ontology/p1216                is reproduction of                            3\n",
      "https://ontome.net/ontology/p1216i               has reproduction                              3\n",
      "https://ontome.net/ontology/p1320                has expression portion type                   3\n",
      "https://ontome.net/ontology/p152                 begin of the begin                            2\n",
      "https://ontome.net/ontology/p153                 end of the end                                1\n",
      "https://ontome.net/ontology/p1190i               is type of                                    1\n",
      "https://ontome.net/ontology/p1190                has built work type                           1\n",
      "dtype: int64\n"
     ]
    }
   ],
   "source": [
    "sum_what_preds = what_predicates[[\"p\", \"pl\"]].value_counts()\n",
    "print(sum_what_preds)\n",
    "sum_what_preds.to_csv(\"info_data/entity_predicates.csv\")"
   ]
  },
  {
   "cell_type": "markdown",
   "id": "c4a97b95",
   "metadata": {},
   "source": [
    "### Get all ship names and predicates"
   ]
  },
  {
   "cell_type": "code",
   "execution_count": 8,
   "id": "d176d795",
   "metadata": {},
   "outputs": [],
   "source": [
    "mh_endpoint.setQuery(mh_prefixes + \"\"\"\n",
    "    SELECT ?s ?sl ?pl\n",
    "    WHERE {\n",
    "    ?s rdf:type ontome:c522 ;\n",
    "        ?p ?o ;\n",
    "        rdfs:label ?sl .\n",
    "    ?p rdfs:label ?pl .\n",
    "    FILTER (lang(?pl) = \"en\")\n",
    "    }\n",
    "\"\"\")\n",
    "\n",
    "ship_preds = query_to_df(mh_endpoint)"
   ]
  },
  {
   "cell_type": "code",
   "execution_count": 9,
   "id": "69b5ddc5",
   "metadata": {},
   "outputs": [
    {
     "name": "stdout",
     "output_type": "stream",
     "text": [
      "s                                       sl                   pl                          \n",
      "http://geovistory.org/resource/i178921  Meijenburg           had carried out                 21\n",
      "http://geovistory.org/resource/i179754  Zutphen              had carried out                 19\n",
      "http://geovistory.org/resource/i179061  Oranje               had carried out                 18\n",
      "http://geovistory.org/resource/i178340  Enkhuizen            had carried out                 18\n",
      "http://geovistory.org/resource/i178558  Hof Van Zeeland      had carried out                 17\n",
      "                                                                                             ..\n",
      "http://geovistory.org/resource/i178623  Huis Te Kraaiestein  has label                        1\n",
      "                                                             has appellation for language     1\n",
      "                                                             had carried out                  1\n",
      "http://geovistory.org/resource/i178622  Huis Te Kleef        has type                         1\n",
      "http://geovistory.org/resource/i179799  Herstelder           has type                         1\n",
      "Length: 7426, dtype: int64\n"
     ]
    }
   ],
   "source": [
    "sum_ship_preds = ship_preds.value_counts()\n",
    "print(sum_ship_preds)\n",
    "sum_ship_preds.to_csv(\"info_data/ship_names_and_predicates.csv\")"
   ]
  },
  {
   "cell_type": "code",
   "execution_count": 10,
   "id": "d6d70ca8",
   "metadata": {
    "scrolled": true
   },
   "outputs": [
    {
     "name": "stdout",
     "output_type": "stream",
     "text": [
      "Il y a 1855 navires dans la base de données Maritime History.\n",
      "Il y a 13786 informations sur ces navires.\n",
      "Ces informations sont des types suivants :\n",
      "\t['had carried out', 'has appellation for language', 'has label', 'has type', 'is annotated by']\n"
     ]
    }
   ],
   "source": [
    "print(f\"Il y a {len(np.unique(ship_preds['s']))} navires dans la base de données Maritime History.\")\n",
    "print(f\"Il y a {len(ship_preds)} informations sur ces navires.\")\n",
    "print(f\"Ces informations sont des types suivants :\\n\\t{[pl for pl in np.unique(ship_preds['pl'])]}\")"
   ]
  },
  {
   "cell_type": "markdown",
   "id": "f0f4ef01",
   "metadata": {},
   "source": [
    "### Get all person names and predicates"
   ]
  },
  {
   "cell_type": "code",
   "execution_count": 11,
   "id": "916416ce",
   "metadata": {},
   "outputs": [],
   "source": [
    "mh_endpoint.setQuery(mh_prefixes + \"\"\"\n",
    "    SELECT ?s ?sl ?pl\n",
    "    WHERE {\n",
    "    ?s rdf:type ontome:c21 ;\n",
    "        ?p ?o ;\n",
    "        rdfs:label ?sl .\n",
    "    ?p rdfs:label ?pl .\n",
    "    FILTER (lang(?pl) = \"en\")\n",
    "    }\n",
    "\"\"\")\n",
    "\n",
    "person_preds = query_to_df(mh_endpoint)"
   ]
  },
  {
   "cell_type": "code",
   "execution_count": 12,
   "id": "352bd3e5",
   "metadata": {},
   "outputs": [
    {
     "name": "stdout",
     "output_type": "stream",
     "text": [
      "s                                      sl                  pl                          \n",
      "http://geovistory.org/resource/i87622  Willem Simonse      has appellation for language    7\n",
      "http://geovistory.org/resource/i88746  Cornelis Stevensen  has appellation for language    7\n",
      "http://geovistory.org/resource/i91714  Amon Roulofse       has appellation for language    7\n",
      "http://geovistory.org/resource/i84896  Pieter Doolhagen    has appellation for language    7\n",
      "http://geovistory.org/resource/i86690  Jan Nijster         has appellation for language    6\n",
      "                                                                                          ..\n",
      "http://geovistory.org/resource/i87698  Jacob Clauwers      had as participant              1\n",
      "http://geovistory.org/resource/i87697  Simon Jobse         has type                        1\n",
      "                                                           has label                       1\n",
      "                                                           had as participant              1\n",
      "http://geovistory.org/resource/i92465  Willem Engel        has type                        1\n",
      "Length: 30329, dtype: int64\n"
     ]
    }
   ],
   "source": [
    "sum_person_preds = person_preds.value_counts()\n",
    "print(sum_person_preds)\n",
    "sum_person_preds.to_csv(\"info_data/person_names_and_predicates.csv\")"
   ]
  },
  {
   "cell_type": "code",
   "execution_count": 13,
   "id": "dada5ecf",
   "metadata": {},
   "outputs": [
    {
     "name": "stdout",
     "output_type": "stream",
     "text": [
      "Il y a 7614 personnes dans la base de données Maritime History.\n",
      "Il y a 37265 informations sur ces personnes.\n",
      "Ces informations sont des types suivants :\n",
      "\t['had as participant', 'has appellation for language', 'has label', 'has type', 'is annotated by']\n"
     ]
    }
   ],
   "source": [
    "print(f\"Il y a {len(np.unique(person_preds['s']))} personnes dans la base de données Maritime History.\")\n",
    "print(f\"Il y a {len(person_preds)} informations sur ces personnes.\")\n",
    "print(f\"Ces informations sont des types suivants :\\n\\t{[pl for pl in np.unique(person_preds['pl'])]}\")"
   ]
  },
  {
   "cell_type": "markdown",
   "id": "2899f01e",
   "metadata": {},
   "source": [
    "### Get all voyages and predicates"
   ]
  },
  {
   "cell_type": "code",
   "execution_count": 14,
   "id": "216a6407",
   "metadata": {},
   "outputs": [],
   "source": [
    "mh_endpoint.setQuery(mh_prefixes + \"\"\"\n",
    "    SELECT ?s ?sl ?pl\n",
    "    WHERE {\n",
    "    ?s rdf:type ontome:c523 ;\n",
    "        ?p ?o ;\n",
    "        rdfs:label ?sl .\n",
    "    ?p rdfs:label ?pl .\n",
    "    FILTER (lang(?pl) = \"en\")\n",
    "    }\n",
    "\"\"\")\n",
    "\n",
    "voyage_preds = query_to_df(mh_endpoint)"
   ]
  },
  {
   "cell_type": "code",
   "execution_count": 15,
   "id": "acac04d2",
   "metadata": {
    "scrolled": true
   },
   "outputs": [
    {
     "name": "stdout",
     "output_type": "stream",
     "text": [
      "s                                       sl                                                 pl                 \n",
      "http://geovistory.org/resource/i151443  Fort Rammekens NL, Sri Lanka LK, Duinenburg        participated in        172\n",
      "http://geovistory.org/resource/i157150  Fort Rammekens NL, Jakarta ID, Walcheren           participated in        154\n",
      "http://geovistory.org/resource/i156015  Fort Rammekens NL, Jakarta ID, Sloterdijk          participated in        149\n",
      "http://geovistory.org/resource/i149984  Fort Rammekens NL, Jakarta ID, Admiraal De Ruyter  participated in        144\n",
      "http://geovistory.org/resource/i155016  Fort Rammekens NL, Jakarta ID, Pallas              participated in        144\n",
      "                                                                                                                 ... \n",
      "http://geovistory.org/resource/i152613  Texel NL, Jakarta ID, Hollandia                    had arrival place        1\n",
      "                                                                                           had departure place      1\n",
      "                                                                                           has label                1\n",
      "                                                                                           has set up               1\n",
      "http://geovistory.org/resource/i158063  Bengal IN                                          has type                 1\n",
      "Length: 56792, dtype: int64\n"
     ]
    }
   ],
   "source": [
    "sum_voy_preds = voyage_preds.value_counts()\n",
    "print(sum_voy_preds)\n",
    "sum_voy_preds.to_csv(\"info_data/voyage_names_and_predicates.csv\")"
   ]
  },
  {
   "cell_type": "code",
   "execution_count": 16,
   "id": "344bb069",
   "metadata": {},
   "outputs": [
    {
     "name": "stdout",
     "output_type": "stream",
     "text": [
      "Il y a 8189 voyages dans la base de données Maritime History.\n",
      "Il y a 64239 informations sur ces voyages.\n",
      "Ces informations sont des types suivants :\n",
      "\t['had arrival place', 'had departure place', 'has label', 'has set up', 'has time-span', 'has type', 'participated in', 'was carried out by']\n"
     ]
    }
   ],
   "source": [
    "print(f\"Il y a {len(np.unique(voyage_preds['s']))} voyages dans la base de données Maritime History.\")\n",
    "print(f\"Il y a {len(voyage_preds)} informations sur ces voyages.\")\n",
    "print(f\"Ces informations sont des types suivants :\\n\\t{[pl for pl in np.unique(voyage_preds['pl'])]}\")"
   ]
  },
  {
   "cell_type": "markdown",
   "id": "92b4a3d4",
   "metadata": {},
   "source": [
    "### Exporter les objets pertinents"
   ]
  },
  {
   "cell_type": "code",
   "execution_count": 36,
   "id": "0a739d99",
   "metadata": {
    "scrolled": true
   },
   "outputs": [],
   "source": [
    "mh_endpoint.setQuery(mh_prefixes + \"\"\"\n",
    "    SELECT ?instance ?instlabel ?eob ?boe ?ship ?shipname ?dplace ?dplabel ?dude ?participant\n",
    "    WHERE {\n",
    "    ?instance rdf:type ontome:c523 ;\n",
    "        rdfs:label ?instlabel ;\n",
    "        ontome:p4 ?tspan ;\n",
    "        ontome:p1335 ?dplace ;\n",
    "        ontome:p1338 ?ship .\n",
    "  ?ship rdfs:label ?shipname .\n",
    "  ?tspan ontome:p151/rdfs:label ?boe ;\n",
    "    ontome:p150/rdfs:label ?eob .\n",
    "  ?dplace rdfs:label ?dplabel .\n",
    "  OPTIONAL {\n",
    "    ?instance ontome:p1359 ?dude .\n",
    "    ?dude ontome:p1111i/rdfs:label ?participant .\n",
    "  }\n",
    "}\n",
    "\"\"\")\n",
    "\n",
    "complete = query_to_df(mh_endpoint)\n",
    "complete.to_csv(\"output_voyages.csv\")"
   ]
  }
 ],
 "metadata": {
  "kernelspec": {
   "display_name": "Python 3 (ipykernel)",
   "language": "python",
   "name": "python3"
  },
  "language_info": {
   "codemirror_mode": {
    "name": "ipython",
    "version": 3
   },
   "file_extension": ".py",
   "mimetype": "text/x-python",
   "name": "python",
   "nbconvert_exporter": "python",
   "pygments_lexer": "ipython3",
   "version": "3.9.7"
  }
 },
 "nbformat": 4,
 "nbformat_minor": 5
}
